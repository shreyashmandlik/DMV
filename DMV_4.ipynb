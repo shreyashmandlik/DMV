{
  "cells": [
    {
      "cell_type": "markdown",
      "id": "f4c78e65-178a-49ff-a6cf-d5cf5c729d5f",
      "metadata": {
        "jp-MarkdownHeadingCollapsed": true,
        "id": "f4c78e65-178a-49ff-a6cf-d5cf5c729d5f"
      },
      "source": [
        "### **Data Wrangling**\n",
        "\n",
        "**Problem Statement**: Data Wrangling on Real Estate Market\n",
        "\n",
        "**Dataset**: \"RealEstate_Prices.csv\"\n",
        "\n",
        "**Description**: The dataset contains information about housing prices in a specific real estate\n",
        "market. It includes various attributes such as property characteristics, location, sale prices,\n",
        "and other relevant features. The goal is to perform data wrangling to gain insights into the\n",
        "factors influencing housing prices and prepare the dataset for further analysis or modeling.\n",
        "\n",
        "**Tasks to Perform**:\n",
        "1. Import the \"RealEstate_Prices.csv\" dataset. Clean column names by removing spaces,\n",
        "special characters, or renaming them for clarity.\n",
        "2. Handle missing values in the dataset, deciding on an appropriate strategy (e.g.,\n",
        "imputation or removal).\n",
        "3. Perform data merging if additional datasets with relevant information are available\n",
        "(e.g., neighborhood demographics or nearby amenities).\n",
        "4. Filter and subset the data based on specific criteria, such as a particular time period,\n",
        "property type, or location.\n",
        "5. Handle categorical variables by encoding them appropriately (e.g., one-hot encoding or\n",
        "label encoding) for further analysis.\n",
        "6. Aggregate the data to calculate summary statistics or derived metrics such as average\n",
        "sale prices by neighborhood or property type.\n",
        "7. Identify and handle outliers or extreme values in the data that may affect the analysis\n",
        "or modeling process."
      ]
    },
    {
      "cell_type": "markdown",
      "id": "0baff74b-1777-4585-b8ac-ca906c1f3255",
      "metadata": {
        "id": "0baff74b-1777-4585-b8ac-ca906c1f3255"
      },
      "source": [
        "## ------------------------------------------------------------------------------------------------------------"
      ]
    },
    {
      "cell_type": "markdown",
      "id": "5ad2667e-7bd3-4a17-b53c-f5878c47c112",
      "metadata": {
        "id": "5ad2667e-7bd3-4a17-b53c-f5878c47c112"
      },
      "source": [
        "## **Importing Libraries**"
      ]
    },
    {
      "cell_type": "code",
      "execution_count": null,
      "id": "561ce1ee",
      "metadata": {
        "id": "561ce1ee"
      },
      "outputs": [],
      "source": [
        "import numpy as np\n",
        "import pandas as pd"
      ]
    },
    {
      "cell_type": "markdown",
      "id": "51f99143-b852-41aa-a61b-25e545921c13",
      "metadata": {
        "id": "51f99143-b852-41aa-a61b-25e545921c13"
      },
      "source": [
        "## ------------------------------------------------------------------------------------------------------------"
      ]
    },
    {
      "cell_type": "markdown",
      "id": "861da800",
      "metadata": {
        "id": "861da800"
      },
      "source": [
        "## **Task 1**"
      ]
    },
    {
      "cell_type": "code",
      "execution_count": null,
      "id": "d51c0723",
      "metadata": {
        "id": "d51c0723"
      },
      "outputs": [],
      "source": [
        "df = pd.read_csv(\"RealEstate_Price.csv\")"
      ]
    },
    {
      "cell_type": "code",
      "execution_count": null,
      "id": "68747b72",
      "metadata": {
        "id": "68747b72",
        "outputId": "17ebc316-c1ae-48b6-bb13-555214a4bdff"
      },
      "outputs": [
        {
          "data": {
            "text/html": [
              "<div>\n",
              "<style scoped>\n",
              "    .dataframe tbody tr th:only-of-type {\n",
              "        vertical-align: middle;\n",
              "    }\n",
              "\n",
              "    .dataframe tbody tr th {\n",
              "        vertical-align: top;\n",
              "    }\n",
              "\n",
              "    .dataframe thead th {\n",
              "        text-align: right;\n",
              "    }\n",
              "</style>\n",
              "<table border=\"1\" class=\"dataframe\">\n",
              "  <thead>\n",
              "    <tr style=\"text-align: right;\">\n",
              "      <th></th>\n",
              "      <th>Home</th>\n",
              "      <th>Price</th>\n",
              "      <th>SqFt</th>\n",
              "      <th>Bedrooms</th>\n",
              "      <th>Bathrooms</th>\n",
              "      <th>Offers</th>\n",
              "      <th>Brick</th>\n",
              "      <th>Neighborhood</th>\n",
              "      <th>Sales_date</th>\n",
              "    </tr>\n",
              "  </thead>\n",
              "  <tbody>\n",
              "    <tr>\n",
              "      <th>0</th>\n",
              "      <td>1</td>\n",
              "      <td>114300.0</td>\n",
              "      <td>1790</td>\n",
              "      <td>2.0</td>\n",
              "      <td>2</td>\n",
              "      <td>2</td>\n",
              "      <td>No</td>\n",
              "      <td>East</td>\n",
              "      <td>15-01-2021</td>\n",
              "    </tr>\n",
              "    <tr>\n",
              "      <th>1</th>\n",
              "      <td>2</td>\n",
              "      <td>114200.0</td>\n",
              "      <td>2030</td>\n",
              "      <td>4.0</td>\n",
              "      <td>2</td>\n",
              "      <td>3</td>\n",
              "      <td>No</td>\n",
              "      <td>East</td>\n",
              "      <td>21-09-2022</td>\n",
              "    </tr>\n",
              "    <tr>\n",
              "      <th>2</th>\n",
              "      <td>3</td>\n",
              "      <td>114800.0</td>\n",
              "      <td>1740</td>\n",
              "      <td>3.0</td>\n",
              "      <td>2</td>\n",
              "      <td>1</td>\n",
              "      <td>No</td>\n",
              "      <td>East</td>\n",
              "      <td>13-03-2022</td>\n",
              "    </tr>\n",
              "    <tr>\n",
              "      <th>3</th>\n",
              "      <td>4</td>\n",
              "      <td>94700.0</td>\n",
              "      <td>1980</td>\n",
              "      <td>3.0</td>\n",
              "      <td>2</td>\n",
              "      <td>3</td>\n",
              "      <td>No</td>\n",
              "      <td>East</td>\n",
              "      <td>31-08-2021</td>\n",
              "    </tr>\n",
              "    <tr>\n",
              "      <th>4</th>\n",
              "      <td>5</td>\n",
              "      <td>119800.0</td>\n",
              "      <td>2130</td>\n",
              "      <td>3.0</td>\n",
              "      <td>3</td>\n",
              "      <td>3</td>\n",
              "      <td>No</td>\n",
              "      <td>East</td>\n",
              "      <td>31-08-2021</td>\n",
              "    </tr>\n",
              "    <tr>\n",
              "      <th>...</th>\n",
              "      <td>...</td>\n",
              "      <td>...</td>\n",
              "      <td>...</td>\n",
              "      <td>...</td>\n",
              "      <td>...</td>\n",
              "      <td>...</td>\n",
              "      <td>...</td>\n",
              "      <td>...</td>\n",
              "      <td>...</td>\n",
              "    </tr>\n",
              "    <tr>\n",
              "      <th>123</th>\n",
              "      <td>124</td>\n",
              "      <td>119700.0</td>\n",
              "      <td>1900</td>\n",
              "      <td>3.0</td>\n",
              "      <td>3</td>\n",
              "      <td>3</td>\n",
              "      <td>Yes</td>\n",
              "      <td>East</td>\n",
              "      <td>02-10-2022</td>\n",
              "    </tr>\n",
              "    <tr>\n",
              "      <th>124</th>\n",
              "      <td>125</td>\n",
              "      <td>147900.0</td>\n",
              "      <td>2160</td>\n",
              "      <td>4.0</td>\n",
              "      <td>3</td>\n",
              "      <td>3</td>\n",
              "      <td>Yes</td>\n",
              "      <td>East</td>\n",
              "      <td>13-03-2020</td>\n",
              "    </tr>\n",
              "    <tr>\n",
              "      <th>125</th>\n",
              "      <td>126</td>\n",
              "      <td>113500.0</td>\n",
              "      <td>2070</td>\n",
              "      <td>2.0</td>\n",
              "      <td>2</td>\n",
              "      <td>2</td>\n",
              "      <td>No</td>\n",
              "      <td>North</td>\n",
              "      <td>17-08-2021</td>\n",
              "    </tr>\n",
              "    <tr>\n",
              "      <th>126</th>\n",
              "      <td>127</td>\n",
              "      <td>149900.0</td>\n",
              "      <td>2020</td>\n",
              "      <td>3.0</td>\n",
              "      <td>3</td>\n",
              "      <td>1</td>\n",
              "      <td>No</td>\n",
              "      <td>West</td>\n",
              "      <td>15-05-2022</td>\n",
              "    </tr>\n",
              "    <tr>\n",
              "      <th>127</th>\n",
              "      <td>128</td>\n",
              "      <td>124600.0</td>\n",
              "      <td>2250</td>\n",
              "      <td>NaN</td>\n",
              "      <td>3</td>\n",
              "      <td>4</td>\n",
              "      <td>No</td>\n",
              "      <td>North</td>\n",
              "      <td>05-03-2020</td>\n",
              "    </tr>\n",
              "  </tbody>\n",
              "</table>\n",
              "<p>128 rows × 9 columns</p>\n",
              "</div>"
            ],
            "text/plain": [
              "     Home     Price  SqFt  Bedrooms  Bathrooms  Offers Brick Neighborhood  \\\n",
              "0       1  114300.0  1790       2.0          2       2    No         East   \n",
              "1       2  114200.0  2030       4.0          2       3    No         East   \n",
              "2       3  114800.0  1740       3.0          2       1    No         East   \n",
              "3       4   94700.0  1980       3.0          2       3    No         East   \n",
              "4       5  119800.0  2130       3.0          3       3    No         East   \n",
              "..    ...       ...   ...       ...        ...     ...   ...          ...   \n",
              "123   124  119700.0  1900       3.0          3       3   Yes         East   \n",
              "124   125  147900.0  2160       4.0          3       3   Yes         East   \n",
              "125   126  113500.0  2070       2.0          2       2    No        North   \n",
              "126   127  149900.0  2020       3.0          3       1    No         West   \n",
              "127   128  124600.0  2250       NaN          3       4    No        North   \n",
              "\n",
              "     Sales_date  \n",
              "0    15-01-2021  \n",
              "1    21-09-2022  \n",
              "2    13-03-2022  \n",
              "3    31-08-2021  \n",
              "4    31-08-2021  \n",
              "..          ...  \n",
              "123  02-10-2022  \n",
              "124  13-03-2020  \n",
              "125  17-08-2021  \n",
              "126  15-05-2022  \n",
              "127  05-03-2020  \n",
              "\n",
              "[128 rows x 9 columns]"
            ]
          },
          "execution_count": 10,
          "metadata": {},
          "output_type": "execute_result"
        }
      ],
      "source": [
        "df"
      ]
    },
    {
      "cell_type": "code",
      "execution_count": null,
      "id": "9ac725f7",
      "metadata": {
        "id": "9ac725f7"
      },
      "outputs": [],
      "source": [
        "df.columns = df.columns.str.strip()\n",
        "df.columns = df.columns.str.replace(\" \", \"_\")"
      ]
    },
    {
      "cell_type": "markdown",
      "id": "8fdfb8ba-3270-4391-82d4-ea1f59034b83",
      "metadata": {
        "id": "8fdfb8ba-3270-4391-82d4-ea1f59034b83"
      },
      "source": [
        "## ------------------------------------------------------------------------------------------------------------"
      ]
    },
    {
      "cell_type": "markdown",
      "id": "5bdbcb1d-bbdb-41b1-8380-92724cc0ac41",
      "metadata": {
        "id": "5bdbcb1d-bbdb-41b1-8380-92724cc0ac41"
      },
      "source": [
        "## **Task 2**"
      ]
    },
    {
      "cell_type": "code",
      "execution_count": null,
      "id": "2a00aad1",
      "metadata": {
        "id": "2a00aad1",
        "outputId": "f12bf2c8-ee46-4a0c-899b-13d2316c45d6"
      },
      "outputs": [
        {
          "data": {
            "text/plain": [
              "Home            0\n",
              "Price           4\n",
              "SqFt            0\n",
              "Bedrooms        4\n",
              "Bathrooms       0\n",
              "Offers          0\n",
              "Brick           0\n",
              "Neighborhood    0\n",
              "Sales_date      0\n",
              "dtype: int64"
            ]
          },
          "execution_count": 12,
          "metadata": {},
          "output_type": "execute_result"
        }
      ],
      "source": [
        "df.isnull().sum()"
      ]
    },
    {
      "cell_type": "code",
      "execution_count": null,
      "id": "9ce26be6",
      "metadata": {
        "id": "9ce26be6"
      },
      "outputs": [],
      "source": [
        "price_mean = df['Price'].mean()\n",
        "bedrooms_mode = df['Bedrooms'].mode()[0]\n",
        "\n",
        "# Impute missing values with the mode\n",
        "df['Price'].fillna(price_mean, inplace=True)\n",
        "df['Bedrooms'].fillna(bedrooms_mode, inplace=True)"
      ]
    },
    {
      "cell_type": "code",
      "execution_count": null,
      "id": "951eeb5f",
      "metadata": {
        "id": "951eeb5f",
        "outputId": "9a370e03-5df9-427b-c27b-510ffbb69e2a"
      },
      "outputs": [
        {
          "data": {
            "text/plain": [
              "Home            0\n",
              "Price           0\n",
              "SqFt            0\n",
              "Bedrooms        0\n",
              "Bathrooms       0\n",
              "Offers          0\n",
              "Brick           0\n",
              "Neighborhood    0\n",
              "Sales_date      0\n",
              "dtype: int64"
            ]
          },
          "execution_count": 14,
          "metadata": {},
          "output_type": "execute_result"
        }
      ],
      "source": [
        "df.isnull().sum()"
      ]
    },
    {
      "cell_type": "markdown",
      "id": "23a37ee9-c5d0-44c9-b49c-63a0f5bdf165",
      "metadata": {
        "id": "23a37ee9-c5d0-44c9-b49c-63a0f5bdf165"
      },
      "source": [
        "## ------------------------------------------------------------------------------------------------------------"
      ]
    },
    {
      "cell_type": "markdown",
      "id": "8b699500",
      "metadata": {
        "id": "8b699500"
      },
      "source": [
        "## **Task 3 & 4**"
      ]
    },
    {
      "cell_type": "code",
      "execution_count": null,
      "id": "df6d1e5a",
      "metadata": {
        "id": "df6d1e5a",
        "outputId": "c5ce1a87-4bad-4a38-db1b-fb82e2522f5b"
      },
      "outputs": [
        {
          "data": {
            "text/html": [
              "<div>\n",
              "<style scoped>\n",
              "    .dataframe tbody tr th:only-of-type {\n",
              "        vertical-align: middle;\n",
              "    }\n",
              "\n",
              "    .dataframe tbody tr th {\n",
              "        vertical-align: top;\n",
              "    }\n",
              "\n",
              "    .dataframe thead th {\n",
              "        text-align: right;\n",
              "    }\n",
              "</style>\n",
              "<table border=\"1\" class=\"dataframe\">\n",
              "  <thead>\n",
              "    <tr style=\"text-align: right;\">\n",
              "      <th></th>\n",
              "      <th>Home</th>\n",
              "      <th>Price</th>\n",
              "      <th>SqFt</th>\n",
              "      <th>Bedrooms</th>\n",
              "      <th>Bathrooms</th>\n",
              "      <th>Offers</th>\n",
              "      <th>Brick</th>\n",
              "      <th>Neighborhood</th>\n",
              "      <th>Sales_date</th>\n",
              "    </tr>\n",
              "  </thead>\n",
              "  <tbody>\n",
              "    <tr>\n",
              "      <th>0</th>\n",
              "      <td>1</td>\n",
              "      <td>114300.000000</td>\n",
              "      <td>1790</td>\n",
              "      <td>2.0</td>\n",
              "      <td>2</td>\n",
              "      <td>2</td>\n",
              "      <td>No</td>\n",
              "      <td>East</td>\n",
              "      <td>15-01-2021</td>\n",
              "    </tr>\n",
              "    <tr>\n",
              "      <th>11</th>\n",
              "      <td>12</td>\n",
              "      <td>123000.000000</td>\n",
              "      <td>1870</td>\n",
              "      <td>2.0</td>\n",
              "      <td>2</td>\n",
              "      <td>2</td>\n",
              "      <td>Yes</td>\n",
              "      <td>East</td>\n",
              "      <td>20-11-2021</td>\n",
              "    </tr>\n",
              "    <tr>\n",
              "      <th>18</th>\n",
              "      <td>19</td>\n",
              "      <td>111400.000000</td>\n",
              "      <td>1700</td>\n",
              "      <td>2.0</td>\n",
              "      <td>2</td>\n",
              "      <td>1</td>\n",
              "      <td>Yes</td>\n",
              "      <td>East</td>\n",
              "      <td>08-07-2021</td>\n",
              "    </tr>\n",
              "    <tr>\n",
              "      <th>28</th>\n",
              "      <td>29</td>\n",
              "      <td>69100.000000</td>\n",
              "      <td>1600</td>\n",
              "      <td>2.0</td>\n",
              "      <td>2</td>\n",
              "      <td>3</td>\n",
              "      <td>No</td>\n",
              "      <td>North</td>\n",
              "      <td>12-05-2020</td>\n",
              "    </tr>\n",
              "    <tr>\n",
              "      <th>31</th>\n",
              "      <td>32</td>\n",
              "      <td>112300.000000</td>\n",
              "      <td>1930</td>\n",
              "      <td>2.0</td>\n",
              "      <td>2</td>\n",
              "      <td>2</td>\n",
              "      <td>Yes</td>\n",
              "      <td>North</td>\n",
              "      <td>05-10-2022</td>\n",
              "    </tr>\n",
              "    <tr>\n",
              "      <th>34</th>\n",
              "      <td>35</td>\n",
              "      <td>130718.548387</td>\n",
              "      <td>2000</td>\n",
              "      <td>2.0</td>\n",
              "      <td>2</td>\n",
              "      <td>3</td>\n",
              "      <td>No</td>\n",
              "      <td>North</td>\n",
              "      <td>26-08-2022</td>\n",
              "    </tr>\n",
              "    <tr>\n",
              "      <th>36</th>\n",
              "      <td>37</td>\n",
              "      <td>117500.000000</td>\n",
              "      <td>1880</td>\n",
              "      <td>2.0</td>\n",
              "      <td>2</td>\n",
              "      <td>2</td>\n",
              "      <td>No</td>\n",
              "      <td>North</td>\n",
              "      <td>13-02-2021</td>\n",
              "    </tr>\n",
              "    <tr>\n",
              "      <th>42</th>\n",
              "      <td>43</td>\n",
              "      <td>105600.000000</td>\n",
              "      <td>1990</td>\n",
              "      <td>2.0</td>\n",
              "      <td>2</td>\n",
              "      <td>3</td>\n",
              "      <td>No</td>\n",
              "      <td>East</td>\n",
              "      <td>24-07-2020</td>\n",
              "    </tr>\n",
              "    <tr>\n",
              "      <th>46</th>\n",
              "      <td>47</td>\n",
              "      <td>129800.000000</td>\n",
              "      <td>1990</td>\n",
              "      <td>2.0</td>\n",
              "      <td>3</td>\n",
              "      <td>2</td>\n",
              "      <td>No</td>\n",
              "      <td>North</td>\n",
              "      <td>06-05-2022</td>\n",
              "    </tr>\n",
              "    <tr>\n",
              "      <th>48</th>\n",
              "      <td>49</td>\n",
              "      <td>115900.000000</td>\n",
              "      <td>1980</td>\n",
              "      <td>2.0</td>\n",
              "      <td>2</td>\n",
              "      <td>2</td>\n",
              "      <td>No</td>\n",
              "      <td>East</td>\n",
              "      <td>29-08-2020</td>\n",
              "    </tr>\n",
              "    <tr>\n",
              "      <th>51</th>\n",
              "      <td>52</td>\n",
              "      <td>130718.548387</td>\n",
              "      <td>1860</td>\n",
              "      <td>2.0</td>\n",
              "      <td>2</td>\n",
              "      <td>3</td>\n",
              "      <td>No</td>\n",
              "      <td>North</td>\n",
              "      <td>21-01-2021</td>\n",
              "    </tr>\n",
              "    <tr>\n",
              "      <th>52</th>\n",
              "      <td>53</td>\n",
              "      <td>117400.000000</td>\n",
              "      <td>2150</td>\n",
              "      <td>2.0</td>\n",
              "      <td>3</td>\n",
              "      <td>4</td>\n",
              "      <td>No</td>\n",
              "      <td>North</td>\n",
              "      <td>09-07-2021</td>\n",
              "    </tr>\n",
              "    <tr>\n",
              "      <th>55</th>\n",
              "      <td>56</td>\n",
              "      <td>125700.000000</td>\n",
              "      <td>1720</td>\n",
              "      <td>2.0</td>\n",
              "      <td>2</td>\n",
              "      <td>2</td>\n",
              "      <td>Yes</td>\n",
              "      <td>East</td>\n",
              "      <td>05-01-2022</td>\n",
              "    </tr>\n",
              "    <tr>\n",
              "      <th>61</th>\n",
              "      <td>62</td>\n",
              "      <td>100900.000000</td>\n",
              "      <td>1610</td>\n",
              "      <td>2.0</td>\n",
              "      <td>2</td>\n",
              "      <td>2</td>\n",
              "      <td>No</td>\n",
              "      <td>North</td>\n",
              "      <td>04-07-2020</td>\n",
              "    </tr>\n",
              "    <tr>\n",
              "      <th>63</th>\n",
              "      <td>64</td>\n",
              "      <td>120500.000000</td>\n",
              "      <td>1910</td>\n",
              "      <td>2.0</td>\n",
              "      <td>3</td>\n",
              "      <td>2</td>\n",
              "      <td>No</td>\n",
              "      <td>East</td>\n",
              "      <td>12-02-2020</td>\n",
              "    </tr>\n",
              "    <tr>\n",
              "      <th>65</th>\n",
              "      <td>66</td>\n",
              "      <td>111100.000000</td>\n",
              "      <td>1450</td>\n",
              "      <td>2.0</td>\n",
              "      <td>2</td>\n",
              "      <td>1</td>\n",
              "      <td>Yes</td>\n",
              "      <td>North</td>\n",
              "      <td>27-06-2022</td>\n",
              "    </tr>\n",
              "    <tr>\n",
              "      <th>75</th>\n",
              "      <td>76</td>\n",
              "      <td>106900.000000</td>\n",
              "      <td>1900</td>\n",
              "      <td>2.0</td>\n",
              "      <td>2</td>\n",
              "      <td>2</td>\n",
              "      <td>No</td>\n",
              "      <td>North</td>\n",
              "      <td>29-12-2021</td>\n",
              "    </tr>\n",
              "    <tr>\n",
              "      <th>82</th>\n",
              "      <td>83</td>\n",
              "      <td>164800.000000</td>\n",
              "      <td>2050</td>\n",
              "      <td>2.0</td>\n",
              "      <td>2</td>\n",
              "      <td>1</td>\n",
              "      <td>Yes</td>\n",
              "      <td>West</td>\n",
              "      <td>25-11-2021</td>\n",
              "    </tr>\n",
              "    <tr>\n",
              "      <th>84</th>\n",
              "      <td>85</td>\n",
              "      <td>90500.000000</td>\n",
              "      <td>1520</td>\n",
              "      <td>2.0</td>\n",
              "      <td>2</td>\n",
              "      <td>3</td>\n",
              "      <td>No</td>\n",
              "      <td>North</td>\n",
              "      <td>21-04-2021</td>\n",
              "    </tr>\n",
              "    <tr>\n",
              "      <th>89</th>\n",
              "      <td>90</td>\n",
              "      <td>97800.000000</td>\n",
              "      <td>2010</td>\n",
              "      <td>2.0</td>\n",
              "      <td>2</td>\n",
              "      <td>4</td>\n",
              "      <td>No</td>\n",
              "      <td>North</td>\n",
              "      <td>01-04-2021</td>\n",
              "    </tr>\n",
              "    <tr>\n",
              "      <th>95</th>\n",
              "      <td>96</td>\n",
              "      <td>152500.000000</td>\n",
              "      <td>1970</td>\n",
              "      <td>2.0</td>\n",
              "      <td>2</td>\n",
              "      <td>1</td>\n",
              "      <td>Yes</td>\n",
              "      <td>West</td>\n",
              "      <td>08-09-2021</td>\n",
              "    </tr>\n",
              "    <tr>\n",
              "      <th>97</th>\n",
              "      <td>98</td>\n",
              "      <td>126800.000000</td>\n",
              "      <td>2000</td>\n",
              "      <td>2.0</td>\n",
              "      <td>2</td>\n",
              "      <td>1</td>\n",
              "      <td>Yes</td>\n",
              "      <td>East</td>\n",
              "      <td>16-11-2020</td>\n",
              "    </tr>\n",
              "    <tr>\n",
              "      <th>110</th>\n",
              "      <td>111</td>\n",
              "      <td>111600.000000</td>\n",
              "      <td>1710</td>\n",
              "      <td>2.0</td>\n",
              "      <td>2</td>\n",
              "      <td>1</td>\n",
              "      <td>No</td>\n",
              "      <td>North</td>\n",
              "      <td>16-05-2020</td>\n",
              "    </tr>\n",
              "    <tr>\n",
              "      <th>111</th>\n",
              "      <td>112</td>\n",
              "      <td>114900.000000</td>\n",
              "      <td>1740</td>\n",
              "      <td>2.0</td>\n",
              "      <td>2</td>\n",
              "      <td>2</td>\n",
              "      <td>No</td>\n",
              "      <td>North</td>\n",
              "      <td>20-07-2020</td>\n",
              "    </tr>\n",
              "    <tr>\n",
              "      <th>112</th>\n",
              "      <td>113</td>\n",
              "      <td>123600.000000</td>\n",
              "      <td>1940</td>\n",
              "      <td>2.0</td>\n",
              "      <td>2</td>\n",
              "      <td>2</td>\n",
              "      <td>Yes</td>\n",
              "      <td>East</td>\n",
              "      <td>14-06-2020</td>\n",
              "    </tr>\n",
              "    <tr>\n",
              "      <th>119</th>\n",
              "      <td>120</td>\n",
              "      <td>109700.000000</td>\n",
              "      <td>1920</td>\n",
              "      <td>2.0</td>\n",
              "      <td>2</td>\n",
              "      <td>4</td>\n",
              "      <td>No</td>\n",
              "      <td>North</td>\n",
              "      <td>29-01-2021</td>\n",
              "    </tr>\n",
              "    <tr>\n",
              "      <th>120</th>\n",
              "      <td>121</td>\n",
              "      <td>110400.000000</td>\n",
              "      <td>1930</td>\n",
              "      <td>2.0</td>\n",
              "      <td>3</td>\n",
              "      <td>3</td>\n",
              "      <td>No</td>\n",
              "      <td>North</td>\n",
              "      <td>17-03-2021</td>\n",
              "    </tr>\n",
              "    <tr>\n",
              "      <th>122</th>\n",
              "      <td>123</td>\n",
              "      <td>144800.000000</td>\n",
              "      <td>2060</td>\n",
              "      <td>2.0</td>\n",
              "      <td>2</td>\n",
              "      <td>1</td>\n",
              "      <td>Yes</td>\n",
              "      <td>East</td>\n",
              "      <td>14-01-2020</td>\n",
              "    </tr>\n",
              "    <tr>\n",
              "      <th>125</th>\n",
              "      <td>126</td>\n",
              "      <td>113500.000000</td>\n",
              "      <td>2070</td>\n",
              "      <td>2.0</td>\n",
              "      <td>2</td>\n",
              "      <td>2</td>\n",
              "      <td>No</td>\n",
              "      <td>North</td>\n",
              "      <td>17-08-2021</td>\n",
              "    </tr>\n",
              "  </tbody>\n",
              "</table>\n",
              "</div>"
            ],
            "text/plain": [
              "     Home          Price  SqFt  Bedrooms  Bathrooms  Offers Brick  \\\n",
              "0       1  114300.000000  1790       2.0          2       2    No   \n",
              "11     12  123000.000000  1870       2.0          2       2   Yes   \n",
              "18     19  111400.000000  1700       2.0          2       1   Yes   \n",
              "28     29   69100.000000  1600       2.0          2       3    No   \n",
              "31     32  112300.000000  1930       2.0          2       2   Yes   \n",
              "34     35  130718.548387  2000       2.0          2       3    No   \n",
              "36     37  117500.000000  1880       2.0          2       2    No   \n",
              "42     43  105600.000000  1990       2.0          2       3    No   \n",
              "46     47  129800.000000  1990       2.0          3       2    No   \n",
              "48     49  115900.000000  1980       2.0          2       2    No   \n",
              "51     52  130718.548387  1860       2.0          2       3    No   \n",
              "52     53  117400.000000  2150       2.0          3       4    No   \n",
              "55     56  125700.000000  1720       2.0          2       2   Yes   \n",
              "61     62  100900.000000  1610       2.0          2       2    No   \n",
              "63     64  120500.000000  1910       2.0          3       2    No   \n",
              "65     66  111100.000000  1450       2.0          2       1   Yes   \n",
              "75     76  106900.000000  1900       2.0          2       2    No   \n",
              "82     83  164800.000000  2050       2.0          2       1   Yes   \n",
              "84     85   90500.000000  1520       2.0          2       3    No   \n",
              "89     90   97800.000000  2010       2.0          2       4    No   \n",
              "95     96  152500.000000  1970       2.0          2       1   Yes   \n",
              "97     98  126800.000000  2000       2.0          2       1   Yes   \n",
              "110   111  111600.000000  1710       2.0          2       1    No   \n",
              "111   112  114900.000000  1740       2.0          2       2    No   \n",
              "112   113  123600.000000  1940       2.0          2       2   Yes   \n",
              "119   120  109700.000000  1920       2.0          2       4    No   \n",
              "120   121  110400.000000  1930       2.0          3       3    No   \n",
              "122   123  144800.000000  2060       2.0          2       1   Yes   \n",
              "125   126  113500.000000  2070       2.0          2       2    No   \n",
              "\n",
              "    Neighborhood  Sales_date  \n",
              "0           East  15-01-2021  \n",
              "11          East  20-11-2021  \n",
              "18          East  08-07-2021  \n",
              "28         North  12-05-2020  \n",
              "31         North  05-10-2022  \n",
              "34         North  26-08-2022  \n",
              "36         North  13-02-2021  \n",
              "42          East  24-07-2020  \n",
              "46         North  06-05-2022  \n",
              "48          East  29-08-2020  \n",
              "51         North  21-01-2021  \n",
              "52         North  09-07-2021  \n",
              "55          East  05-01-2022  \n",
              "61         North  04-07-2020  \n",
              "63          East  12-02-2020  \n",
              "65         North  27-06-2022  \n",
              "75         North  29-12-2021  \n",
              "82          West  25-11-2021  \n",
              "84         North  21-04-2021  \n",
              "89         North  01-04-2021  \n",
              "95          West  08-09-2021  \n",
              "97          East  16-11-2020  \n",
              "110        North  16-05-2020  \n",
              "111        North  20-07-2020  \n",
              "112         East  14-06-2020  \n",
              "119        North  29-01-2021  \n",
              "120        North  17-03-2021  \n",
              "122         East  14-01-2020  \n",
              "125        North  17-08-2021  "
            ]
          },
          "execution_count": 15,
          "metadata": {},
          "output_type": "execute_result"
        }
      ],
      "source": [
        "#Filter\n",
        "filtered_df = df[df['Bedrooms'] <= 2]\n",
        "filtered_df"
      ]
    },
    {
      "cell_type": "code",
      "execution_count": null,
      "id": "5fa3398d",
      "metadata": {
        "id": "5fa3398d",
        "outputId": "00079ae2-10f3-4904-bb01-87afb6a30fd6"
      },
      "outputs": [
        {
          "data": {
            "text/html": [
              "<div>\n",
              "<style scoped>\n",
              "    .dataframe tbody tr th:only-of-type {\n",
              "        vertical-align: middle;\n",
              "    }\n",
              "\n",
              "    .dataframe tbody tr th {\n",
              "        vertical-align: top;\n",
              "    }\n",
              "\n",
              "    .dataframe thead th {\n",
              "        text-align: right;\n",
              "    }\n",
              "</style>\n",
              "<table border=\"1\" class=\"dataframe\">\n",
              "  <thead>\n",
              "    <tr style=\"text-align: right;\">\n",
              "      <th></th>\n",
              "      <th>Price</th>\n",
              "      <th>SqFt</th>\n",
              "      <th>Offers</th>\n",
              "    </tr>\n",
              "  </thead>\n",
              "  <tbody>\n",
              "    <tr>\n",
              "      <th>0</th>\n",
              "      <td>114300.0</td>\n",
              "      <td>1790</td>\n",
              "      <td>2</td>\n",
              "    </tr>\n",
              "    <tr>\n",
              "      <th>1</th>\n",
              "      <td>114200.0</td>\n",
              "      <td>2030</td>\n",
              "      <td>3</td>\n",
              "    </tr>\n",
              "    <tr>\n",
              "      <th>2</th>\n",
              "      <td>114800.0</td>\n",
              "      <td>1740</td>\n",
              "      <td>1</td>\n",
              "    </tr>\n",
              "    <tr>\n",
              "      <th>3</th>\n",
              "      <td>94700.0</td>\n",
              "      <td>1980</td>\n",
              "      <td>3</td>\n",
              "    </tr>\n",
              "    <tr>\n",
              "      <th>4</th>\n",
              "      <td>119800.0</td>\n",
              "      <td>2130</td>\n",
              "      <td>3</td>\n",
              "    </tr>\n",
              "    <tr>\n",
              "      <th>...</th>\n",
              "      <td>...</td>\n",
              "      <td>...</td>\n",
              "      <td>...</td>\n",
              "    </tr>\n",
              "    <tr>\n",
              "      <th>123</th>\n",
              "      <td>119700.0</td>\n",
              "      <td>1900</td>\n",
              "      <td>3</td>\n",
              "    </tr>\n",
              "    <tr>\n",
              "      <th>124</th>\n",
              "      <td>147900.0</td>\n",
              "      <td>2160</td>\n",
              "      <td>3</td>\n",
              "    </tr>\n",
              "    <tr>\n",
              "      <th>125</th>\n",
              "      <td>113500.0</td>\n",
              "      <td>2070</td>\n",
              "      <td>2</td>\n",
              "    </tr>\n",
              "    <tr>\n",
              "      <th>126</th>\n",
              "      <td>149900.0</td>\n",
              "      <td>2020</td>\n",
              "      <td>1</td>\n",
              "    </tr>\n",
              "    <tr>\n",
              "      <th>127</th>\n",
              "      <td>124600.0</td>\n",
              "      <td>2250</td>\n",
              "      <td>4</td>\n",
              "    </tr>\n",
              "  </tbody>\n",
              "</table>\n",
              "<p>128 rows × 3 columns</p>\n",
              "</div>"
            ],
            "text/plain": [
              "        Price  SqFt  Offers\n",
              "0    114300.0  1790       2\n",
              "1    114200.0  2030       3\n",
              "2    114800.0  1740       1\n",
              "3     94700.0  1980       3\n",
              "4    119800.0  2130       3\n",
              "..        ...   ...     ...\n",
              "123  119700.0  1900       3\n",
              "124  147900.0  2160       3\n",
              "125  113500.0  2070       2\n",
              "126  149900.0  2020       1\n",
              "127  124600.0  2250       4\n",
              "\n",
              "[128 rows x 3 columns]"
            ]
          },
          "execution_count": 16,
          "metadata": {},
          "output_type": "execute_result"
        }
      ],
      "source": [
        "#Subset\n",
        "subset_df = df[[\"Price\", \"SqFt\", \"Offers\"]]\n",
        "subset_df"
      ]
    },
    {
      "cell_type": "markdown",
      "id": "e34f6a28-51a3-4ac4-8b28-fb9f39f3149a",
      "metadata": {
        "id": "e34f6a28-51a3-4ac4-8b28-fb9f39f3149a"
      },
      "source": [
        "## ------------------------------------------------------------------------------------------------------------"
      ]
    },
    {
      "cell_type": "markdown",
      "id": "a33d037b",
      "metadata": {
        "id": "a33d037b"
      },
      "source": [
        "## **Task 5**"
      ]
    },
    {
      "cell_type": "code",
      "execution_count": null,
      "id": "21cedb48",
      "metadata": {
        "id": "21cedb48"
      },
      "outputs": [],
      "source": [
        "label_mapping = {\"No\": 0, \"Yes\": 1}\n",
        "df['Brick'] = df['Brick'].map(label_mapping)"
      ]
    },
    {
      "cell_type": "code",
      "execution_count": null,
      "id": "51417489",
      "metadata": {
        "scrolled": true,
        "id": "51417489",
        "outputId": "a78463c4-6a0a-4d42-91a4-01201100b473"
      },
      "outputs": [
        {
          "data": {
            "text/plain": [
              "0      0\n",
              "1      0\n",
              "2      0\n",
              "3      0\n",
              "4      0\n",
              "      ..\n",
              "123    1\n",
              "124    1\n",
              "125    0\n",
              "126    0\n",
              "127    0\n",
              "Name: Brick, Length: 128, dtype: int64"
            ]
          },
          "execution_count": 18,
          "metadata": {},
          "output_type": "execute_result"
        }
      ],
      "source": [
        "df['Brick']"
      ]
    },
    {
      "cell_type": "markdown",
      "id": "f0c572ae-55ee-4f0a-9e66-0b196d889ab0",
      "metadata": {
        "id": "f0c572ae-55ee-4f0a-9e66-0b196d889ab0"
      },
      "source": [
        "## ------------------------------------------------------------------------------------------------------------"
      ]
    },
    {
      "cell_type": "markdown",
      "id": "e9840f5f",
      "metadata": {
        "id": "e9840f5f"
      },
      "source": [
        "## **Task 6**"
      ]
    },
    {
      "cell_type": "code",
      "execution_count": null,
      "id": "6685dd63",
      "metadata": {
        "id": "6685dd63"
      },
      "outputs": [],
      "source": [
        "grouped_data = df.groupby(['Neighborhood'])['Price'].mean().reset_index()"
      ]
    },
    {
      "cell_type": "code",
      "execution_count": null,
      "id": "34ab02df",
      "metadata": {
        "id": "34ab02df",
        "outputId": "33aa60d4-d667-465b-b80f-662abf7f0005"
      },
      "outputs": [
        {
          "data": {
            "text/html": [
              "<div>\n",
              "<style scoped>\n",
              "    .dataframe tbody tr th:only-of-type {\n",
              "        vertical-align: middle;\n",
              "    }\n",
              "\n",
              "    .dataframe tbody tr th {\n",
              "        vertical-align: top;\n",
              "    }\n",
              "\n",
              "    .dataframe thead th {\n",
              "        text-align: right;\n",
              "    }\n",
              "</style>\n",
              "<table border=\"1\" class=\"dataframe\">\n",
              "  <thead>\n",
              "    <tr style=\"text-align: right;\">\n",
              "      <th></th>\n",
              "      <th>Neighborhood</th>\n",
              "      <th>Price</th>\n",
              "    </tr>\n",
              "  </thead>\n",
              "  <tbody>\n",
              "    <tr>\n",
              "      <th>0</th>\n",
              "      <td>East</td>\n",
              "      <td>124891.935484</td>\n",
              "    </tr>\n",
              "    <tr>\n",
              "      <th>1</th>\n",
              "      <td>North</td>\n",
              "      <td>111348.570381</td>\n",
              "    </tr>\n",
              "    <tr>\n",
              "      <th>2</th>\n",
              "      <td>West</td>\n",
              "      <td>159294.871795</td>\n",
              "    </tr>\n",
              "  </tbody>\n",
              "</table>\n",
              "</div>"
            ],
            "text/plain": [
              "  Neighborhood          Price\n",
              "0         East  124891.935484\n",
              "1        North  111348.570381\n",
              "2         West  159294.871795"
            ]
          },
          "execution_count": 20,
          "metadata": {},
          "output_type": "execute_result"
        }
      ],
      "source": [
        "grouped_data"
      ]
    },
    {
      "cell_type": "markdown",
      "id": "9d60ea34-c58f-46d8-98c4-2a8465bd0df9",
      "metadata": {
        "id": "9d60ea34-c58f-46d8-98c4-2a8465bd0df9"
      },
      "source": [
        "## ------------------------------------------------------------------------------------------------------------"
      ]
    },
    {
      "cell_type": "markdown",
      "id": "a2af7481",
      "metadata": {
        "id": "a2af7481"
      },
      "source": [
        "## **Task 7**"
      ]
    },
    {
      "cell_type": "code",
      "execution_count": null,
      "id": "a7069f05",
      "metadata": {
        "id": "a7069f05",
        "outputId": "a28b2308-ecd9-446f-b4ff-27902369fd86"
      },
      "outputs": [
        {
          "name": "stdout",
          "output_type": "stream",
          "text": [
            "<class 'pandas.core.frame.DataFrame'>\n",
            "RangeIndex: 128 entries, 0 to 127\n",
            "Data columns (total 9 columns):\n",
            " #   Column        Non-Null Count  Dtype  \n",
            "---  ------        --------------  -----  \n",
            " 0   Home          128 non-null    int64  \n",
            " 1   Price         128 non-null    float64\n",
            " 2   SqFt          128 non-null    int64  \n",
            " 3   Bedrooms      128 non-null    float64\n",
            " 4   Bathrooms     128 non-null    int64  \n",
            " 5   Offers        128 non-null    int64  \n",
            " 6   Brick         128 non-null    int64  \n",
            " 7   Neighborhood  128 non-null    object \n",
            " 8   Sales_date    128 non-null    object \n",
            "dtypes: float64(2), int64(5), object(2)\n",
            "memory usage: 9.1+ KB\n"
          ]
        }
      ],
      "source": [
        "df.info()"
      ]
    },
    {
      "cell_type": "code",
      "execution_count": null,
      "id": "dcd755fb",
      "metadata": {
        "id": "dcd755fb"
      },
      "outputs": [],
      "source": [
        "df['Price'] = df['Price'].astype(int)"
      ]
    },
    {
      "cell_type": "code",
      "execution_count": null,
      "id": "5adbec7d",
      "metadata": {
        "id": "5adbec7d",
        "outputId": "9fc6de7e-5a94-4821-cd90-0429e234f907"
      },
      "outputs": [
        {
          "name": "stdout",
          "output_type": "stream",
          "text": [
            "<class 'pandas.core.frame.DataFrame'>\n",
            "RangeIndex: 128 entries, 0 to 127\n",
            "Data columns (total 9 columns):\n",
            " #   Column        Non-Null Count  Dtype  \n",
            "---  ------        --------------  -----  \n",
            " 0   Home          128 non-null    int64  \n",
            " 1   Price         128 non-null    int32  \n",
            " 2   SqFt          128 non-null    int64  \n",
            " 3   Bedrooms      128 non-null    float64\n",
            " 4   Bathrooms     128 non-null    int64  \n",
            " 5   Offers        128 non-null    int64  \n",
            " 6   Brick         128 non-null    int64  \n",
            " 7   Neighborhood  128 non-null    object \n",
            " 8   Sales_date    128 non-null    object \n",
            "dtypes: float64(1), int32(1), int64(5), object(2)\n",
            "memory usage: 8.6+ KB\n"
          ]
        }
      ],
      "source": [
        "df.info()"
      ]
    },
    {
      "cell_type": "code",
      "execution_count": null,
      "id": "eeeaa102",
      "metadata": {
        "id": "eeeaa102",
        "outputId": "0b0fac4a-756f-4baf-e059-55900ea6c8cf"
      },
      "outputs": [
        {
          "data": {
            "text/html": [
              "<div>\n",
              "<style scoped>\n",
              "    .dataframe tbody tr th:only-of-type {\n",
              "        vertical-align: middle;\n",
              "    }\n",
              "\n",
              "    .dataframe tbody tr th {\n",
              "        vertical-align: top;\n",
              "    }\n",
              "\n",
              "    .dataframe thead th {\n",
              "        text-align: right;\n",
              "    }\n",
              "</style>\n",
              "<table border=\"1\" class=\"dataframe\">\n",
              "  <thead>\n",
              "    <tr style=\"text-align: right;\">\n",
              "      <th></th>\n",
              "      <th>Home</th>\n",
              "      <th>Price</th>\n",
              "      <th>SqFt</th>\n",
              "      <th>Bedrooms</th>\n",
              "      <th>Bathrooms</th>\n",
              "      <th>Offers</th>\n",
              "      <th>Brick</th>\n",
              "      <th>Neighborhood</th>\n",
              "      <th>Sales_date</th>\n",
              "      <th>z_score</th>\n",
              "    </tr>\n",
              "  </thead>\n",
              "  <tbody>\n",
              "    <tr>\n",
              "      <th>103</th>\n",
              "      <td>104</td>\n",
              "      <td>211200</td>\n",
              "      <td>2440</td>\n",
              "      <td>4.0</td>\n",
              "      <td>3</td>\n",
              "      <td>3</td>\n",
              "      <td>1</td>\n",
              "      <td>West</td>\n",
              "      <td>15-01-2020</td>\n",
              "      <td>3.038658</td>\n",
              "    </tr>\n",
              "  </tbody>\n",
              "</table>\n",
              "</div>"
            ],
            "text/plain": [
              "     Home   Price  SqFt  Bedrooms  Bathrooms  Offers  Brick Neighborhood  \\\n",
              "103   104  211200  2440       4.0          3       3      1         West   \n",
              "\n",
              "     Sales_date   z_score  \n",
              "103  15-01-2020  3.038658  "
            ]
          },
          "execution_count": 24,
          "metadata": {},
          "output_type": "execute_result"
        }
      ],
      "source": [
        "from scipy import stats\n",
        "\n",
        "# Calculate the Z-scores for the 'fare_amount' column\n",
        "df['z_score'] = stats.zscore(df['Price'])\n",
        "\n",
        "# Define a threshold for identifying outliers (e.g., 3)\n",
        "threshold = 3\n",
        "\n",
        "# Create a boolean mask to identify outliers\n",
        "outliers_mask = (df['z_score'] > threshold) | (df['z_score'] < -threshold)\n",
        "\n",
        "# Extract the outliers\n",
        "outliers = df[outliers_mask]\n",
        "\n",
        "# Print the outliers\n",
        "outliers"
      ]
    },
    {
      "cell_type": "code",
      "execution_count": null,
      "id": "4d948982",
      "metadata": {
        "id": "4d948982"
      },
      "outputs": [],
      "source": [
        "df.loc[103, 'Price'] = df.loc[103, 'Price'] if df.loc[103, 'Price'] <= threshold else df['Price'].median()"
      ]
    },
    {
      "cell_type": "code",
      "execution_count": null,
      "id": "9920fb78",
      "metadata": {
        "id": "9920fb78",
        "outputId": "ede10bff-6464-4cec-8f9b-6433cdafbfe8"
      },
      "outputs": [
        {
          "name": "stdout",
          "output_type": "stream",
          "text": [
            "Result of the 'Price' column:\n"
          ]
        },
        {
          "data": {
            "text/plain": [
              "0      114300\n",
              "1      114200\n",
              "2      114800\n",
              "3       94700\n",
              "4      119800\n",
              "        ...  \n",
              "123    119700\n",
              "124    147900\n",
              "125    113500\n",
              "126    149900\n",
              "127    124600\n",
              "Name: Price, Length: 128, dtype: int32"
            ]
          },
          "execution_count": 26,
          "metadata": {},
          "output_type": "execute_result"
        }
      ],
      "source": [
        "print(\"Result of the 'Price' column:\")\n",
        "df['Price']"
      ]
    },
    {
      "cell_type": "code",
      "execution_count": null,
      "id": "c74a7448",
      "metadata": {
        "id": "c74a7448",
        "outputId": "a1dc82a9-9905-40b9-82fe-ca94f6092e41"
      },
      "outputs": [
        {
          "data": {
            "text/html": [
              "<div>\n",
              "<style scoped>\n",
              "    .dataframe tbody tr th:only-of-type {\n",
              "        vertical-align: middle;\n",
              "    }\n",
              "\n",
              "    .dataframe tbody tr th {\n",
              "        vertical-align: top;\n",
              "    }\n",
              "\n",
              "    .dataframe thead th {\n",
              "        text-align: right;\n",
              "    }\n",
              "</style>\n",
              "<table border=\"1\" class=\"dataframe\">\n",
              "  <thead>\n",
              "    <tr style=\"text-align: right;\">\n",
              "      <th></th>\n",
              "      <th>Home</th>\n",
              "      <th>Price</th>\n",
              "      <th>SqFt</th>\n",
              "      <th>Bedrooms</th>\n",
              "      <th>Bathrooms</th>\n",
              "      <th>Offers</th>\n",
              "      <th>Brick</th>\n",
              "      <th>Neighborhood</th>\n",
              "      <th>Sales_date</th>\n",
              "      <th>z_score</th>\n",
              "    </tr>\n",
              "  </thead>\n",
              "  <tbody>\n",
              "  </tbody>\n",
              "</table>\n",
              "</div>"
            ],
            "text/plain": [
              "Empty DataFrame\n",
              "Columns: [Home, Price, SqFt, Bedrooms, Bathrooms, Offers, Brick, Neighborhood, Sales_date, z_score]\n",
              "Index: []"
            ]
          },
          "execution_count": 28,
          "metadata": {},
          "output_type": "execute_result"
        }
      ],
      "source": [
        "from scipy import stats\n",
        "\n",
        "# Calculate the Z-scores for the 'fare_amount' column\n",
        "df['z_score'] = stats.zscore(df['Price'])\n",
        "\n",
        "# Define a threshold for identifying outliers (e.g., 3)\n",
        "threshold = 3\n",
        "\n",
        "# Create a boolean mask to identify outliers\n",
        "outliers_mask = (df['z_score'] > threshold) | (df['z_score'] < -threshold)\n",
        "\n",
        "# Extract the outliers\n",
        "outliers = df[outliers_mask]\n",
        "\n",
        "# Print the outliers\n",
        "outliers"
      ]
    }
  ],
  "metadata": {
    "kernelspec": {
      "display_name": "Python 3 (ipykernel)",
      "language": "python",
      "name": "python3"
    },
    "language_info": {
      "codemirror_mode": {
        "name": "ipython",
        "version": 3
      },
      "file_extension": ".py",
      "mimetype": "text/x-python",
      "name": "python",
      "nbconvert_exporter": "python",
      "pygments_lexer": "ipython3",
      "version": "3.11.7"
    },
    "colab": {
      "provenance": []
    }
  },
  "nbformat": 4,
  "nbformat_minor": 5
}