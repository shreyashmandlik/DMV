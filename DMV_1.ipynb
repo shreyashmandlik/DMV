{
  "cells": [
    {
      "cell_type": "markdown",
      "id": "2f12a1bf-32fd-4472-9eb7-803f935af019",
      "metadata": {
        "id": "2f12a1bf-32fd-4472-9eb7-803f935af019"
      },
      "source": []
    },
    {
      "cell_type": "markdown",
      "id": "8b2e2207-72a8-47ab-b2a6-ceb2763f8474",
      "metadata": {
        "id": "8b2e2207-72a8-47ab-b2a6-ceb2763f8474"
      },
      "source": [
        "### **Data Loading, Storage and File Formats**\n",
        "**Problem Statement**: Analyzing Sales Data from Multiple File Formats\n",
        "\n",
        "**Dataset**: Sales data in multiple file formats (e.g., CSV, Excel, JSON)\n",
        "\n",
        "**Description**: The goal is to load and analyze sales data from different file formats, including\n",
        "CSV, Excel, and JSON, and perform data cleaning, transformation, and analysis on the\n",
        "dataset.\n",
        "\n",
        "**Tasks to Perform**:\n",
        "Obtain sales data files in various formats, such as CSV, Excel, and JSON.\n",
        "1. Load the sales data from each file format into the appropriate data structures or\n",
        "dataframes.\n",
        "2. Explore the structure and content of the loaded data, identifying any inconsistencies,\n",
        "missing values, or data quality issues.\n",
        "3. Perform data cleaning operations, such as handling missing values, removing\n",
        "duplicates, or correcting inconsistencies.\n",
        "4. Convert the data into a unified format, such as a common dataframe or data structure,\n",
        "to enable seamless analysis.\n",
        "5. Perform data transformation tasks, such as merging multiple datasets, splitting\n",
        "columns, or deriving new variables.\n",
        "6. Analyze the sales data by performing descriptive statistics, aggregating data by\n",
        "specific variables, or calculating metrics such as total sales, average order value, or\n",
        "product category distribution.\n",
        "7. Create visualizations, such as bar plots, pie charts, or box plots, to represent the sales\n",
        "data and gain insights into sales trends, customer behavior, or product performance."
      ]
    },
    {
      "cell_type": "markdown",
      "id": "34bf3a48-e0de-4e37-8698-c4aeef6dfb61",
      "metadata": {
        "id": "34bf3a48-e0de-4e37-8698-c4aeef6dfb61"
      },
      "source": [
        "## ------------------------------------------------------------------------------------------------------------"
      ]
    },
    {
      "cell_type": "markdown",
      "id": "d04cbfa9-24c4-4a86-b6b3-e19c60b8d6d8",
      "metadata": {
        "id": "d04cbfa9-24c4-4a86-b6b3-e19c60b8d6d8"
      },
      "source": [
        "### **Importing Libraries**"
      ]
    },
    {
      "cell_type": "code",
      "execution_count": null,
      "id": "ecc2ae0e",
      "metadata": {
        "id": "ecc2ae0e"
      },
      "outputs": [],
      "source": [
        "import numpy as np\n",
        "import pandas as pd\n",
        "import matplotlib.pyplot as plt"
      ]
    },
    {
      "cell_type": "markdown",
      "id": "cf32af3c-2a70-4003-ac79-9a86a5f10285",
      "metadata": {
        "id": "cf32af3c-2a70-4003-ac79-9a86a5f10285"
      },
      "source": [
        "## ------------------------------------------------------------------------------------------------------------"
      ]
    },
    {
      "cell_type": "markdown",
      "id": "265ff009-0b2c-417d-9642-f47e52572209",
      "metadata": {
        "id": "265ff009-0b2c-417d-9642-f47e52572209"
      },
      "source": [
        "### **Task 1**"
      ]
    },
    {
      "cell_type": "code",
      "execution_count": null,
      "id": "2ff7b7ca",
      "metadata": {
        "id": "2ff7b7ca"
      },
      "outputs": [],
      "source": [
        "#Load the sales data from each file format into the appropriate data structures or dataframes\n",
        "df = pd.read_csv(\"sample_dataset.csv\")"
      ]
    },
    {
      "cell_type": "code",
      "execution_count": null,
      "id": "ec181470",
      "metadata": {
        "id": "ec181470",
        "outputId": "f40a256f-8fc3-4f78-f366-7c611a88e42c"
      },
      "outputs": [
        {
          "data": {
            "text/html": [
              "<div>\n",
              "<style scoped>\n",
              "    .dataframe tbody tr th:only-of-type {\n",
              "        vertical-align: middle;\n",
              "    }\n",
              "\n",
              "    .dataframe tbody tr th {\n",
              "        vertical-align: top;\n",
              "    }\n",
              "\n",
              "    .dataframe thead th {\n",
              "        text-align: right;\n",
              "    }\n",
              "</style>\n",
              "<table border=\"1\" class=\"dataframe\">\n",
              "  <thead>\n",
              "    <tr style=\"text-align: right;\">\n",
              "      <th></th>\n",
              "      <th>ID</th>\n",
              "      <th>Salesman</th>\n",
              "      <th>Sales</th>\n",
              "      <th>P Type</th>\n",
              "      <th>Channel</th>\n",
              "      <th>Address</th>\n",
              "    </tr>\n",
              "  </thead>\n",
              "  <tbody>\n",
              "    <tr>\n",
              "      <th>0</th>\n",
              "      <td>101</td>\n",
              "      <td>Ram</td>\n",
              "      <td>12000.0</td>\n",
              "      <td>Grocery</td>\n",
              "      <td>Offline</td>\n",
              "      <td>Pune</td>\n",
              "    </tr>\n",
              "    <tr>\n",
              "      <th>1</th>\n",
              "      <td>253</td>\n",
              "      <td>Sham</td>\n",
              "      <td>10000.0</td>\n",
              "      <td>Food</td>\n",
              "      <td>Online</td>\n",
              "      <td>Nagpur</td>\n",
              "    </tr>\n",
              "    <tr>\n",
              "      <th>2</th>\n",
              "      <td>555</td>\n",
              "      <td>Tony</td>\n",
              "      <td>30000.0</td>\n",
              "      <td>Clothing</td>\n",
              "      <td>Online</td>\n",
              "      <td>Chennai</td>\n",
              "    </tr>\n",
              "    <tr>\n",
              "      <th>3</th>\n",
              "      <td>789</td>\n",
              "      <td>Jack</td>\n",
              "      <td>44000.0</td>\n",
              "      <td>Medicines</td>\n",
              "      <td>Online</td>\n",
              "      <td>Banglore</td>\n",
              "    </tr>\n",
              "    <tr>\n",
              "      <th>4</th>\n",
              "      <td>544</td>\n",
              "      <td>Luke</td>\n",
              "      <td>NaN</td>\n",
              "      <td>Waste</td>\n",
              "      <td>Offline</td>\n",
              "      <td>Delhi</td>\n",
              "    </tr>\n",
              "    <tr>\n",
              "      <th>5</th>\n",
              "      <td>123</td>\n",
              "      <td>Gopal</td>\n",
              "      <td>123456.0</td>\n",
              "      <td>Electronics</td>\n",
              "      <td>NaN</td>\n",
              "      <td>Mumbai</td>\n",
              "    </tr>\n",
              "    <tr>\n",
              "      <th>6</th>\n",
              "      <td>365</td>\n",
              "      <td>Karan</td>\n",
              "      <td>9999.0</td>\n",
              "      <td>Breverages</td>\n",
              "      <td>NaN</td>\n",
              "      <td>Jammu</td>\n",
              "    </tr>\n",
              "    <tr>\n",
              "      <th>7</th>\n",
              "      <td>963</td>\n",
              "      <td>Tina</td>\n",
              "      <td>5000.0</td>\n",
              "      <td>Stationary</td>\n",
              "      <td>Online</td>\n",
              "      <td>Bhopal</td>\n",
              "    </tr>\n",
              "  </tbody>\n",
              "</table>\n",
              "</div>"
            ],
            "text/plain": [
              "    ID Salesman     Sales       P Type  Channel   Address\n",
              "0  101      Ram   12000.0      Grocery  Offline      Pune\n",
              "1  253     Sham   10000.0         Food   Online    Nagpur\n",
              "2  555     Tony   30000.0     Clothing   Online   Chennai\n",
              "3  789     Jack   44000.0    Medicines   Online  Banglore\n",
              "4  544     Luke       NaN        Waste  Offline     Delhi\n",
              "5  123    Gopal  123456.0  Electronics      NaN    Mumbai\n",
              "6  365    Karan    9999.0   Breverages      NaN     Jammu\n",
              "7  963     Tina    5000.0   Stationary   Online    Bhopal"
            ]
          },
          "execution_count": 6,
          "metadata": {},
          "output_type": "execute_result"
        }
      ],
      "source": [
        "df"
      ]
    },
    {
      "cell_type": "markdown",
      "id": "c84159ed-be33-450a-a2af-f8e90cd2d875",
      "metadata": {
        "id": "c84159ed-be33-450a-a2af-f8e90cd2d875"
      },
      "source": [
        "## ------------------------------------------------------------------------------------------------------------"
      ]
    },
    {
      "cell_type": "markdown",
      "id": "54b5d2b2-34e4-404e-be5f-e1cdd97b7b25",
      "metadata": {
        "id": "54b5d2b2-34e4-404e-be5f-e1cdd97b7b25"
      },
      "source": [
        "### **Task 2**"
      ]
    },
    {
      "cell_type": "code",
      "execution_count": null,
      "id": "89724cf3",
      "metadata": {
        "id": "89724cf3",
        "outputId": "2add4b48-34d6-4dee-f3f1-ca6b39b43188"
      },
      "outputs": [
        {
          "name": "stdout",
          "output_type": "stream",
          "text": [
            "Data Structure:\n"
          ]
        },
        {
          "data": {
            "text/html": [
              "<div>\n",
              "<style scoped>\n",
              "    .dataframe tbody tr th:only-of-type {\n",
              "        vertical-align: middle;\n",
              "    }\n",
              "\n",
              "    .dataframe tbody tr th {\n",
              "        vertical-align: top;\n",
              "    }\n",
              "\n",
              "    .dataframe thead th {\n",
              "        text-align: right;\n",
              "    }\n",
              "</style>\n",
              "<table border=\"1\" class=\"dataframe\">\n",
              "  <thead>\n",
              "    <tr style=\"text-align: right;\">\n",
              "      <th></th>\n",
              "      <th>ID</th>\n",
              "      <th>Salesman</th>\n",
              "      <th>Sales</th>\n",
              "      <th>P Type</th>\n",
              "      <th>Channel</th>\n",
              "      <th>Address</th>\n",
              "    </tr>\n",
              "  </thead>\n",
              "  <tbody>\n",
              "    <tr>\n",
              "      <th>0</th>\n",
              "      <td>101</td>\n",
              "      <td>Ram</td>\n",
              "      <td>12000.0</td>\n",
              "      <td>Grocery</td>\n",
              "      <td>Offline</td>\n",
              "      <td>Pune</td>\n",
              "    </tr>\n",
              "    <tr>\n",
              "      <th>1</th>\n",
              "      <td>253</td>\n",
              "      <td>Sham</td>\n",
              "      <td>10000.0</td>\n",
              "      <td>Food</td>\n",
              "      <td>Online</td>\n",
              "      <td>Nagpur</td>\n",
              "    </tr>\n",
              "    <tr>\n",
              "      <th>2</th>\n",
              "      <td>555</td>\n",
              "      <td>Tony</td>\n",
              "      <td>30000.0</td>\n",
              "      <td>Clothing</td>\n",
              "      <td>Online</td>\n",
              "      <td>Chennai</td>\n",
              "    </tr>\n",
              "    <tr>\n",
              "      <th>3</th>\n",
              "      <td>789</td>\n",
              "      <td>Jack</td>\n",
              "      <td>44000.0</td>\n",
              "      <td>Medicines</td>\n",
              "      <td>Online</td>\n",
              "      <td>Banglore</td>\n",
              "    </tr>\n",
              "    <tr>\n",
              "      <th>4</th>\n",
              "      <td>544</td>\n",
              "      <td>Luke</td>\n",
              "      <td>NaN</td>\n",
              "      <td>Waste</td>\n",
              "      <td>Offline</td>\n",
              "      <td>Delhi</td>\n",
              "    </tr>\n",
              "  </tbody>\n",
              "</table>\n",
              "</div>"
            ],
            "text/plain": [
              "    ID Salesman    Sales     P Type  Channel   Address\n",
              "0  101      Ram  12000.0    Grocery  Offline      Pune\n",
              "1  253     Sham  10000.0       Food   Online    Nagpur\n",
              "2  555     Tony  30000.0   Clothing   Online   Chennai\n",
              "3  789     Jack  44000.0  Medicines   Online  Banglore\n",
              "4  544     Luke      NaN      Waste  Offline     Delhi"
            ]
          },
          "execution_count": 8,
          "metadata": {},
          "output_type": "execute_result"
        }
      ],
      "source": [
        "print(\"Data Structure:\")\n",
        "df.head()"
      ]
    },
    {
      "cell_type": "code",
      "execution_count": null,
      "id": "4d4fae7b-766d-47e3-81e1-3ac25af0479b",
      "metadata": {
        "id": "4d4fae7b-766d-47e3-81e1-3ac25af0479b",
        "outputId": "a7297d2c-b228-4cca-cbf5-6cc788d564ab"
      },
      "outputs": [
        {
          "data": {
            "text/plain": [
              "(8, 6)"
            ]
          },
          "execution_count": 10,
          "metadata": {},
          "output_type": "execute_result"
        }
      ],
      "source": [
        "df.shape"
      ]
    },
    {
      "cell_type": "code",
      "execution_count": null,
      "id": "4a3b5cf3-1b10-4e41-be5b-247ed7918cf6",
      "metadata": {
        "id": "4a3b5cf3-1b10-4e41-be5b-247ed7918cf6",
        "outputId": "c2b94665-a1bc-4baf-d4eb-ee5fd6dfc934"
      },
      "outputs": [
        {
          "name": "stdout",
          "output_type": "stream",
          "text": [
            "<class 'pandas.core.frame.DataFrame'>\n",
            "RangeIndex: 8 entries, 0 to 7\n",
            "Data columns (total 6 columns):\n",
            " #   Column    Non-Null Count  Dtype  \n",
            "---  ------    --------------  -----  \n",
            " 0   ID        8 non-null      int64  \n",
            " 1   Salesman  8 non-null      object \n",
            " 2   Sales     7 non-null      float64\n",
            " 3   P Type    8 non-null      object \n",
            " 4   Channel   6 non-null      object \n",
            " 5   Address   8 non-null      object \n",
            "dtypes: float64(1), int64(1), object(4)\n",
            "memory usage: 516.0+ bytes\n"
          ]
        }
      ],
      "source": [
        "df.info()"
      ]
    },
    {
      "cell_type": "markdown",
      "id": "626a0678-18b4-4131-b414-63399e531ebf",
      "metadata": {
        "id": "626a0678-18b4-4131-b414-63399e531ebf"
      },
      "source": [
        "## ------------------------------------------------------------------------------------------------------------"
      ]
    },
    {
      "cell_type": "markdown",
      "id": "95b9dd7b-282e-4a30-b25b-05e9f0aa27eb",
      "metadata": {
        "id": "95b9dd7b-282e-4a30-b25b-05e9f0aa27eb"
      },
      "source": [
        "### **Task 3**"
      ]
    },
    {
      "cell_type": "code",
      "execution_count": null,
      "id": "2052e05e",
      "metadata": {
        "id": "2052e05e",
        "outputId": "eb472298-025c-4ef4-8b29-95dab6a7d252"
      },
      "outputs": [
        {
          "name": "stdout",
          "output_type": "stream",
          "text": [
            "Missing Values:\n"
          ]
        },
        {
          "data": {
            "text/plain": [
              "ID          0\n",
              "Salesman    0\n",
              "Sales       1\n",
              "P Type      0\n",
              "Channel     2\n",
              "Address     0\n",
              "dtype: int64"
            ]
          },
          "execution_count": 15,
          "metadata": {},
          "output_type": "execute_result"
        }
      ],
      "source": [
        "print(\"Missing Values:\")\n",
        "df.isnull().sum()"
      ]
    },
    {
      "cell_type": "code",
      "execution_count": null,
      "id": "8351e0e6",
      "metadata": {
        "id": "8351e0e6"
      },
      "outputs": [],
      "source": [
        "df['Sales'].fillna(0, inplace=True)\n",
        "df['Sales'] = df['Sales'].astype(int)"
      ]
    },
    {
      "cell_type": "code",
      "execution_count": null,
      "id": "c2d683c5",
      "metadata": {
        "id": "c2d683c5"
      },
      "outputs": [],
      "source": [
        "df['Channel'] = df['Channel'].fillna('Unknown').str.lower()"
      ]
    },
    {
      "cell_type": "code",
      "execution_count": null,
      "id": "753de9b9-f60b-4f24-82bf-f54cd9e18d08",
      "metadata": {
        "id": "753de9b9-f60b-4f24-82bf-f54cd9e18d08",
        "outputId": "6f78d00c-b35e-4af9-968e-a3743a05ce15"
      },
      "outputs": [
        {
          "data": {
            "text/plain": [
              "ID          0\n",
              "Salesman    0\n",
              "Sales       0\n",
              "P Type      0\n",
              "Channel     0\n",
              "Address     0\n",
              "dtype: int64"
            ]
          },
          "execution_count": 18,
          "metadata": {},
          "output_type": "execute_result"
        }
      ],
      "source": [
        "df.isnull().sum()"
      ]
    },
    {
      "cell_type": "code",
      "execution_count": null,
      "id": "dd291428-ed72-4d78-9027-66e9b98b391a",
      "metadata": {
        "id": "dd291428-ed72-4d78-9027-66e9b98b391a",
        "outputId": "75e4cc97-a8f9-4f75-d0cb-d50f94e4e465"
      },
      "outputs": [
        {
          "data": {
            "text/html": [
              "<div>\n",
              "<style scoped>\n",
              "    .dataframe tbody tr th:only-of-type {\n",
              "        vertical-align: middle;\n",
              "    }\n",
              "\n",
              "    .dataframe tbody tr th {\n",
              "        vertical-align: top;\n",
              "    }\n",
              "\n",
              "    .dataframe thead th {\n",
              "        text-align: right;\n",
              "    }\n",
              "</style>\n",
              "<table border=\"1\" class=\"dataframe\">\n",
              "  <thead>\n",
              "    <tr style=\"text-align: right;\">\n",
              "      <th></th>\n",
              "      <th>ID</th>\n",
              "      <th>Salesman</th>\n",
              "      <th>Sales</th>\n",
              "      <th>P Type</th>\n",
              "      <th>Channel</th>\n",
              "      <th>Address</th>\n",
              "    </tr>\n",
              "  </thead>\n",
              "  <tbody>\n",
              "    <tr>\n",
              "      <th>0</th>\n",
              "      <td>101</td>\n",
              "      <td>Ram</td>\n",
              "      <td>12000</td>\n",
              "      <td>Grocery</td>\n",
              "      <td>offline</td>\n",
              "      <td>Pune</td>\n",
              "    </tr>\n",
              "    <tr>\n",
              "      <th>1</th>\n",
              "      <td>253</td>\n",
              "      <td>Sham</td>\n",
              "      <td>10000</td>\n",
              "      <td>Food</td>\n",
              "      <td>online</td>\n",
              "      <td>Nagpur</td>\n",
              "    </tr>\n",
              "    <tr>\n",
              "      <th>2</th>\n",
              "      <td>555</td>\n",
              "      <td>Tony</td>\n",
              "      <td>30000</td>\n",
              "      <td>Clothing</td>\n",
              "      <td>online</td>\n",
              "      <td>Chennai</td>\n",
              "    </tr>\n",
              "    <tr>\n",
              "      <th>3</th>\n",
              "      <td>789</td>\n",
              "      <td>Jack</td>\n",
              "      <td>44000</td>\n",
              "      <td>Medicines</td>\n",
              "      <td>online</td>\n",
              "      <td>Banglore</td>\n",
              "    </tr>\n",
              "    <tr>\n",
              "      <th>4</th>\n",
              "      <td>544</td>\n",
              "      <td>Luke</td>\n",
              "      <td>0</td>\n",
              "      <td>Waste</td>\n",
              "      <td>offline</td>\n",
              "      <td>Delhi</td>\n",
              "    </tr>\n",
              "    <tr>\n",
              "      <th>5</th>\n",
              "      <td>123</td>\n",
              "      <td>Gopal</td>\n",
              "      <td>123456</td>\n",
              "      <td>Electronics</td>\n",
              "      <td>unknown</td>\n",
              "      <td>Mumbai</td>\n",
              "    </tr>\n",
              "    <tr>\n",
              "      <th>6</th>\n",
              "      <td>365</td>\n",
              "      <td>Karan</td>\n",
              "      <td>9999</td>\n",
              "      <td>Breverages</td>\n",
              "      <td>unknown</td>\n",
              "      <td>Jammu</td>\n",
              "    </tr>\n",
              "    <tr>\n",
              "      <th>7</th>\n",
              "      <td>963</td>\n",
              "      <td>Tina</td>\n",
              "      <td>5000</td>\n",
              "      <td>Stationary</td>\n",
              "      <td>online</td>\n",
              "      <td>Bhopal</td>\n",
              "    </tr>\n",
              "  </tbody>\n",
              "</table>\n",
              "</div>"
            ],
            "text/plain": [
              "    ID Salesman   Sales       P Type  Channel   Address\n",
              "0  101      Ram   12000      Grocery  offline      Pune\n",
              "1  253     Sham   10000         Food   online    Nagpur\n",
              "2  555     Tony   30000     Clothing   online   Chennai\n",
              "3  789     Jack   44000    Medicines   online  Banglore\n",
              "4  544     Luke       0        Waste  offline     Delhi\n",
              "5  123    Gopal  123456  Electronics  unknown    Mumbai\n",
              "6  365    Karan    9999   Breverages  unknown     Jammu\n",
              "7  963     Tina    5000   Stationary   online    Bhopal"
            ]
          },
          "execution_count": 19,
          "metadata": {},
          "output_type": "execute_result"
        }
      ],
      "source": [
        "df"
      ]
    },
    {
      "cell_type": "markdown",
      "id": "f4a61c28-033b-45bb-b820-0c54ca15c1fa",
      "metadata": {
        "id": "f4a61c28-033b-45bb-b820-0c54ca15c1fa"
      },
      "source": [
        "## ------------------------------------------------------------------------------------------------------------"
      ]
    },
    {
      "cell_type": "markdown",
      "id": "01f6d5d6-5059-488e-be20-4d8f6765fe97",
      "metadata": {
        "id": "01f6d5d6-5059-488e-be20-4d8f6765fe97"
      },
      "source": [
        "### **Task 4**"
      ]
    },
    {
      "cell_type": "code",
      "execution_count": null,
      "id": "a7739497",
      "metadata": {
        "id": "a7739497"
      },
      "outputs": [],
      "source": [
        "df['Channel'] = df['Channel'].replace(['offline', 'online'], [0, 1])"
      ]
    },
    {
      "cell_type": "code",
      "execution_count": null,
      "id": "fda66afd",
      "metadata": {
        "id": "fda66afd",
        "outputId": "b6d0d535-66f3-484d-f063-d46a75b9535f"
      },
      "outputs": [
        {
          "data": {
            "text/html": [
              "<div>\n",
              "<style scoped>\n",
              "    .dataframe tbody tr th:only-of-type {\n",
              "        vertical-align: middle;\n",
              "    }\n",
              "\n",
              "    .dataframe tbody tr th {\n",
              "        vertical-align: top;\n",
              "    }\n",
              "\n",
              "    .dataframe thead th {\n",
              "        text-align: right;\n",
              "    }\n",
              "</style>\n",
              "<table border=\"1\" class=\"dataframe\">\n",
              "  <thead>\n",
              "    <tr style=\"text-align: right;\">\n",
              "      <th></th>\n",
              "      <th>ID</th>\n",
              "      <th>Salesman</th>\n",
              "      <th>Sales</th>\n",
              "      <th>P Type</th>\n",
              "      <th>Channel</th>\n",
              "      <th>Address</th>\n",
              "    </tr>\n",
              "  </thead>\n",
              "  <tbody>\n",
              "    <tr>\n",
              "      <th>0</th>\n",
              "      <td>101</td>\n",
              "      <td>Ram</td>\n",
              "      <td>12000</td>\n",
              "      <td>Grocery</td>\n",
              "      <td>0</td>\n",
              "      <td>Pune</td>\n",
              "    </tr>\n",
              "    <tr>\n",
              "      <th>1</th>\n",
              "      <td>253</td>\n",
              "      <td>Sham</td>\n",
              "      <td>10000</td>\n",
              "      <td>Food</td>\n",
              "      <td>1</td>\n",
              "      <td>Nagpur</td>\n",
              "    </tr>\n",
              "    <tr>\n",
              "      <th>2</th>\n",
              "      <td>555</td>\n",
              "      <td>Tony</td>\n",
              "      <td>30000</td>\n",
              "      <td>Clothing</td>\n",
              "      <td>1</td>\n",
              "      <td>Chennai</td>\n",
              "    </tr>\n",
              "    <tr>\n",
              "      <th>3</th>\n",
              "      <td>789</td>\n",
              "      <td>Jack</td>\n",
              "      <td>44000</td>\n",
              "      <td>Medicines</td>\n",
              "      <td>1</td>\n",
              "      <td>Banglore</td>\n",
              "    </tr>\n",
              "    <tr>\n",
              "      <th>4</th>\n",
              "      <td>544</td>\n",
              "      <td>Luke</td>\n",
              "      <td>0</td>\n",
              "      <td>Waste</td>\n",
              "      <td>0</td>\n",
              "      <td>Delhi</td>\n",
              "    </tr>\n",
              "    <tr>\n",
              "      <th>5</th>\n",
              "      <td>123</td>\n",
              "      <td>Gopal</td>\n",
              "      <td>123456</td>\n",
              "      <td>Electronics</td>\n",
              "      <td>unknown</td>\n",
              "      <td>Mumbai</td>\n",
              "    </tr>\n",
              "    <tr>\n",
              "      <th>6</th>\n",
              "      <td>365</td>\n",
              "      <td>Karan</td>\n",
              "      <td>9999</td>\n",
              "      <td>Breverages</td>\n",
              "      <td>unknown</td>\n",
              "      <td>Jammu</td>\n",
              "    </tr>\n",
              "    <tr>\n",
              "      <th>7</th>\n",
              "      <td>963</td>\n",
              "      <td>Tina</td>\n",
              "      <td>5000</td>\n",
              "      <td>Stationary</td>\n",
              "      <td>1</td>\n",
              "      <td>Bhopal</td>\n",
              "    </tr>\n",
              "  </tbody>\n",
              "</table>\n",
              "</div>"
            ],
            "text/plain": [
              "    ID Salesman   Sales       P Type  Channel   Address\n",
              "0  101      Ram   12000      Grocery        0      Pune\n",
              "1  253     Sham   10000         Food        1    Nagpur\n",
              "2  555     Tony   30000     Clothing        1   Chennai\n",
              "3  789     Jack   44000    Medicines        1  Banglore\n",
              "4  544     Luke       0        Waste        0     Delhi\n",
              "5  123    Gopal  123456  Electronics  unknown    Mumbai\n",
              "6  365    Karan    9999   Breverages  unknown     Jammu\n",
              "7  963     Tina    5000   Stationary        1    Bhopal"
            ]
          },
          "execution_count": 21,
          "metadata": {},
          "output_type": "execute_result"
        }
      ],
      "source": [
        "df"
      ]
    },
    {
      "cell_type": "markdown",
      "id": "b10fc2ea-791d-4889-a881-2a87da1a5d77",
      "metadata": {
        "id": "b10fc2ea-791d-4889-a881-2a87da1a5d77"
      },
      "source": [
        "## ------------------------------------------------------------------------------------------------------------"
      ]
    },
    {
      "cell_type": "markdown",
      "id": "6b46bf0e-c0f1-46f7-84e3-09e1e810eea4",
      "metadata": {
        "id": "6b46bf0e-c0f1-46f7-84e3-09e1e810eea4"
      },
      "source": [
        "### **Task 5**"
      ]
    },
    {
      "cell_type": "code",
      "execution_count": null,
      "id": "25f8862f",
      "metadata": {
        "id": "25f8862f",
        "outputId": "d9700e7d-4759-4a65-8fe5-4edf95d56b90"
      },
      "outputs": [
        {
          "name": "stdout",
          "output_type": "stream",
          "text": [
            "Transformed DataFrame for sample_file_1:\n"
          ]
        },
        {
          "data": {
            "text/html": [
              "<div>\n",
              "<style scoped>\n",
              "    .dataframe tbody tr th:only-of-type {\n",
              "        vertical-align: middle;\n",
              "    }\n",
              "\n",
              "    .dataframe tbody tr th {\n",
              "        vertical-align: top;\n",
              "    }\n",
              "\n",
              "    .dataframe thead th {\n",
              "        text-align: right;\n",
              "    }\n",
              "</style>\n",
              "<table border=\"1\" class=\"dataframe\">\n",
              "  <thead>\n",
              "    <tr style=\"text-align: right;\">\n",
              "      <th></th>\n",
              "      <th>id</th>\n",
              "      <th>name</th>\n",
              "      <th>salary</th>\n",
              "      <th>start_date</th>\n",
              "      <th>dept</th>\n",
              "      <th>Year</th>\n",
              "      <th>Month</th>\n",
              "      <th>Day</th>\n",
              "    </tr>\n",
              "  </thead>\n",
              "  <tbody>\n",
              "    <tr>\n",
              "      <th>0</th>\n",
              "      <td>1</td>\n",
              "      <td>John</td>\n",
              "      <td>5000</td>\n",
              "      <td>2022-01-01</td>\n",
              "      <td>IT</td>\n",
              "      <td>2022</td>\n",
              "      <td>01</td>\n",
              "      <td>01</td>\n",
              "    </tr>\n",
              "    <tr>\n",
              "      <th>1</th>\n",
              "      <td>2</td>\n",
              "      <td>Jane</td>\n",
              "      <td>6000</td>\n",
              "      <td>2022-02-01</td>\n",
              "      <td>Finance</td>\n",
              "      <td>2022</td>\n",
              "      <td>02</td>\n",
              "      <td>01</td>\n",
              "    </tr>\n",
              "    <tr>\n",
              "      <th>2</th>\n",
              "      <td>3</td>\n",
              "      <td>Mark</td>\n",
              "      <td>5500</td>\n",
              "      <td>2022-03-01</td>\n",
              "      <td>Operations</td>\n",
              "      <td>2022</td>\n",
              "      <td>03</td>\n",
              "      <td>01</td>\n",
              "    </tr>\n",
              "  </tbody>\n",
              "</table>\n",
              "</div>"
            ],
            "text/plain": [
              "   id  name  salary  start_date        dept  Year Month Day\n",
              "0   1  John    5000  2022-01-01          IT  2022    01  01\n",
              "1   2  Jane    6000  2022-02-01     Finance  2022    02  01\n",
              "2   3  Mark    5500  2022-03-01  Operations  2022    03  01"
            ]
          },
          "execution_count": 25,
          "metadata": {},
          "output_type": "execute_result"
        }
      ],
      "source": [
        "import pandas as pd\n",
        "\n",
        "\n",
        "df_file1 = pd.read_csv('sample_file_1.csv')\n",
        "df_file2 = pd.read_csv('sample_file_2.csv')\n",
        "\n",
        "# Split start_date column into 'Year', 'Month', and 'Day' columns for file1_7\n",
        "df_file1[['Year', 'Month', 'Day']] = df_file1['start_date'].str.split('-', expand=True)\n",
        "\n",
        "# Split start_date column into 'Year', 'Month', and 'Day' columns for file2_7\n",
        "df_file2[['Year', 'Month', 'Day']] = df_file2['start_date'].str.split('-', expand=True)\n",
        "\n",
        "print(\"Transformed DataFrame for sample_file_1:\")\n",
        "df_file1\n"
      ]
    },
    {
      "cell_type": "code",
      "execution_count": null,
      "id": "590865e4-e9ae-4082-ac55-47f5824e10f9",
      "metadata": {
        "id": "590865e4-e9ae-4082-ac55-47f5824e10f9",
        "outputId": "c7ef6373-9d25-4bde-be27-1ce7fcfd0a47"
      },
      "outputs": [
        {
          "name": "stdout",
          "output_type": "stream",
          "text": [
            "\n",
            "Transformed DataFrame for sample_file_2:\n"
          ]
        },
        {
          "data": {
            "text/html": [
              "<div>\n",
              "<style scoped>\n",
              "    .dataframe tbody tr th:only-of-type {\n",
              "        vertical-align: middle;\n",
              "    }\n",
              "\n",
              "    .dataframe tbody tr th {\n",
              "        vertical-align: top;\n",
              "    }\n",
              "\n",
              "    .dataframe thead th {\n",
              "        text-align: right;\n",
              "    }\n",
              "</style>\n",
              "<table border=\"1\" class=\"dataframe\">\n",
              "  <thead>\n",
              "    <tr style=\"text-align: right;\">\n",
              "      <th></th>\n",
              "      <th>id</th>\n",
              "      <th>name</th>\n",
              "      <th>salary</th>\n",
              "      <th>start_date</th>\n",
              "      <th>dept</th>\n",
              "      <th>Year</th>\n",
              "      <th>Month</th>\n",
              "      <th>Day</th>\n",
              "    </tr>\n",
              "  </thead>\n",
              "  <tbody>\n",
              "    <tr>\n",
              "      <th>0</th>\n",
              "      <td>4</td>\n",
              "      <td>Sarah</td>\n",
              "      <td>4500</td>\n",
              "      <td>2022-04-01</td>\n",
              "      <td>HR</td>\n",
              "      <td>2022</td>\n",
              "      <td>04</td>\n",
              "      <td>01</td>\n",
              "    </tr>\n",
              "    <tr>\n",
              "      <th>1</th>\n",
              "      <td>5</td>\n",
              "      <td>Michael</td>\n",
              "      <td>7000</td>\n",
              "      <td>2022-05-01</td>\n",
              "      <td>IT</td>\n",
              "      <td>2022</td>\n",
              "      <td>05</td>\n",
              "      <td>01</td>\n",
              "    </tr>\n",
              "    <tr>\n",
              "      <th>2</th>\n",
              "      <td>6</td>\n",
              "      <td>Emily</td>\n",
              "      <td>5200</td>\n",
              "      <td>2022-06-01</td>\n",
              "      <td>Finance</td>\n",
              "      <td>2022</td>\n",
              "      <td>06</td>\n",
              "      <td>01</td>\n",
              "    </tr>\n",
              "  </tbody>\n",
              "</table>\n",
              "</div>"
            ],
            "text/plain": [
              "   id     name  salary  start_date     dept  Year Month Day\n",
              "0   4    Sarah    4500  2022-04-01       HR  2022    04  01\n",
              "1   5  Michael    7000  2022-05-01       IT  2022    05  01\n",
              "2   6    Emily    5200  2022-06-01  Finance  2022    06  01"
            ]
          },
          "execution_count": 26,
          "metadata": {},
          "output_type": "execute_result"
        }
      ],
      "source": [
        "print(\"\\nTransformed DataFrame for sample_file_2:\")\n",
        "df_file2"
      ]
    },
    {
      "cell_type": "code",
      "execution_count": null,
      "id": "3be10962",
      "metadata": {
        "id": "3be10962",
        "outputId": "efe371f6-83e6-4dd7-b7b1-3faec1612aff"
      },
      "outputs": [
        {
          "name": "stdout",
          "output_type": "stream",
          "text": [
            "Merged DataFrame:\n"
          ]
        },
        {
          "data": {
            "text/html": [
              "<div>\n",
              "<style scoped>\n",
              "    .dataframe tbody tr th:only-of-type {\n",
              "        vertical-align: middle;\n",
              "    }\n",
              "\n",
              "    .dataframe tbody tr th {\n",
              "        vertical-align: top;\n",
              "    }\n",
              "\n",
              "    .dataframe thead th {\n",
              "        text-align: right;\n",
              "    }\n",
              "</style>\n",
              "<table border=\"1\" class=\"dataframe\">\n",
              "  <thead>\n",
              "    <tr style=\"text-align: right;\">\n",
              "      <th></th>\n",
              "      <th>id</th>\n",
              "      <th>name</th>\n",
              "      <th>salary</th>\n",
              "      <th>start_date</th>\n",
              "      <th>dept</th>\n",
              "    </tr>\n",
              "  </thead>\n",
              "  <tbody>\n",
              "    <tr>\n",
              "      <th>0</th>\n",
              "      <td>1</td>\n",
              "      <td>John</td>\n",
              "      <td>5000</td>\n",
              "      <td>2022-01-01</td>\n",
              "      <td>IT</td>\n",
              "    </tr>\n",
              "    <tr>\n",
              "      <th>1</th>\n",
              "      <td>2</td>\n",
              "      <td>Jane</td>\n",
              "      <td>6000</td>\n",
              "      <td>2022-02-01</td>\n",
              "      <td>Finance</td>\n",
              "    </tr>\n",
              "    <tr>\n",
              "      <th>2</th>\n",
              "      <td>3</td>\n",
              "      <td>Mark</td>\n",
              "      <td>5500</td>\n",
              "      <td>2022-03-01</td>\n",
              "      <td>Operations</td>\n",
              "    </tr>\n",
              "    <tr>\n",
              "      <th>3</th>\n",
              "      <td>4</td>\n",
              "      <td>Sarah</td>\n",
              "      <td>4500</td>\n",
              "      <td>2022-04-01</td>\n",
              "      <td>HR</td>\n",
              "    </tr>\n",
              "    <tr>\n",
              "      <th>4</th>\n",
              "      <td>5</td>\n",
              "      <td>Michael</td>\n",
              "      <td>7000</td>\n",
              "      <td>2022-05-01</td>\n",
              "      <td>IT</td>\n",
              "    </tr>\n",
              "    <tr>\n",
              "      <th>5</th>\n",
              "      <td>6</td>\n",
              "      <td>Emily</td>\n",
              "      <td>5200</td>\n",
              "      <td>2022-06-01</td>\n",
              "      <td>Finance</td>\n",
              "    </tr>\n",
              "  </tbody>\n",
              "</table>\n",
              "</div>"
            ],
            "text/plain": [
              "   id     name  salary  start_date        dept\n",
              "0   1     John    5000  2022-01-01          IT\n",
              "1   2     Jane    6000  2022-02-01     Finance\n",
              "2   3     Mark    5500  2022-03-01  Operations\n",
              "3   4    Sarah    4500  2022-04-01          HR\n",
              "4   5  Michael    7000  2022-05-01          IT\n",
              "5   6    Emily    5200  2022-06-01     Finance"
            ]
          },
          "execution_count": 27,
          "metadata": {},
          "output_type": "execute_result"
        }
      ],
      "source": [
        "import pandas as pd\n",
        "\n",
        "# Read data from CSV files\n",
        "df_file1 = pd.read_csv('sample_file_1.csv')\n",
        "df_file2 = pd.read_csv('sample_file_2.csv')\n",
        "\n",
        "# Merge datasets based on 'id' column\n",
        "merged_df = pd.concat([df_file1, df_file2], ignore_index=True)\n",
        "\n",
        "# Display the merged DataFrame\n",
        "print(\"Merged DataFrame:\")\n",
        "merged_df\n"
      ]
    },
    {
      "cell_type": "markdown",
      "id": "53bbbeb9-c755-42fa-8cfc-882182debf18",
      "metadata": {
        "id": "53bbbeb9-c755-42fa-8cfc-882182debf18"
      },
      "source": [
        "## ------------------------------------------------------------------------------------------------------------"
      ]
    },
    {
      "cell_type": "markdown",
      "id": "21225df0-e850-44ed-b21e-89ea0ffe099a",
      "metadata": {
        "id": "21225df0-e850-44ed-b21e-89ea0ffe099a"
      },
      "source": [
        "### **Task 6**"
      ]
    },
    {
      "cell_type": "code",
      "execution_count": null,
      "id": "e14a3f1f",
      "metadata": {
        "id": "e14a3f1f"
      },
      "outputs": [],
      "source": [
        "# Read data from CSV file\n",
        "sales_data = pd.read_csv('sample_dataset.csv')"
      ]
    },
    {
      "cell_type": "code",
      "execution_count": null,
      "id": "1c253792",
      "metadata": {
        "id": "1c253792",
        "outputId": "ff2083ec-e4fc-49fb-d039-a9fc47c46235"
      },
      "outputs": [
        {
          "name": "stdout",
          "output_type": "stream",
          "text": [
            "Descriptive Statistics:\n"
          ]
        },
        {
          "data": {
            "text/html": [
              "<div>\n",
              "<style scoped>\n",
              "    .dataframe tbody tr th:only-of-type {\n",
              "        vertical-align: middle;\n",
              "    }\n",
              "\n",
              "    .dataframe tbody tr th {\n",
              "        vertical-align: top;\n",
              "    }\n",
              "\n",
              "    .dataframe thead th {\n",
              "        text-align: right;\n",
              "    }\n",
              "</style>\n",
              "<table border=\"1\" class=\"dataframe\">\n",
              "  <thead>\n",
              "    <tr style=\"text-align: right;\">\n",
              "      <th></th>\n",
              "      <th>ID</th>\n",
              "      <th>Sales</th>\n",
              "    </tr>\n",
              "  </thead>\n",
              "  <tbody>\n",
              "    <tr>\n",
              "      <th>count</th>\n",
              "      <td>8.000000</td>\n",
              "      <td>7.000000</td>\n",
              "    </tr>\n",
              "    <tr>\n",
              "      <th>mean</th>\n",
              "      <td>461.625000</td>\n",
              "      <td>33493.571429</td>\n",
              "    </tr>\n",
              "    <tr>\n",
              "      <th>std</th>\n",
              "      <td>309.754252</td>\n",
              "      <td>42019.100117</td>\n",
              "    </tr>\n",
              "    <tr>\n",
              "      <th>min</th>\n",
              "      <td>101.000000</td>\n",
              "      <td>5000.000000</td>\n",
              "    </tr>\n",
              "    <tr>\n",
              "      <th>25%</th>\n",
              "      <td>220.500000</td>\n",
              "      <td>9999.500000</td>\n",
              "    </tr>\n",
              "    <tr>\n",
              "      <th>50%</th>\n",
              "      <td>454.500000</td>\n",
              "      <td>12000.000000</td>\n",
              "    </tr>\n",
              "    <tr>\n",
              "      <th>75%</th>\n",
              "      <td>613.500000</td>\n",
              "      <td>37000.000000</td>\n",
              "    </tr>\n",
              "    <tr>\n",
              "      <th>max</th>\n",
              "      <td>963.000000</td>\n",
              "      <td>123456.000000</td>\n",
              "    </tr>\n",
              "  </tbody>\n",
              "</table>\n",
              "</div>"
            ],
            "text/plain": [
              "               ID          Sales\n",
              "count    8.000000       7.000000\n",
              "mean   461.625000   33493.571429\n",
              "std    309.754252   42019.100117\n",
              "min    101.000000    5000.000000\n",
              "25%    220.500000    9999.500000\n",
              "50%    454.500000   12000.000000\n",
              "75%    613.500000   37000.000000\n",
              "max    963.000000  123456.000000"
            ]
          },
          "execution_count": 31,
          "metadata": {},
          "output_type": "execute_result"
        }
      ],
      "source": [
        "# Display basic descriptive statistics\n",
        "print(\"Descriptive Statistics:\")\n",
        "sales_data.describe()"
      ]
    },
    {
      "cell_type": "code",
      "execution_count": null,
      "id": "19d7296a",
      "metadata": {
        "id": "19d7296a",
        "outputId": "036e4d21-bdf0-4a8f-d11f-d61302057c2c"
      },
      "outputs": [
        {
          "name": "stdout",
          "output_type": "stream",
          "text": [
            "Total Sales: 234455.0\n"
          ]
        }
      ],
      "source": [
        "# Calculate total sales\n",
        "total_sales = sales_data['Sales'].sum()\n",
        "print(\"Total Sales:\", total_sales)\n"
      ]
    },
    {
      "cell_type": "code",
      "execution_count": null,
      "id": "a84b3cbe",
      "metadata": {
        "id": "a84b3cbe",
        "outputId": "2bfb4295-da00-48fa-fa0f-b4d22e7a4943"
      },
      "outputs": [
        {
          "name": "stdout",
          "output_type": "stream",
          "text": [
            "Average Order Value: 33493.57142857143\n"
          ]
        }
      ],
      "source": [
        "# Calculate average order value\n",
        "average_order_value = sales_data['Sales'].mean()\n",
        "print(\"Average Order Value:\", average_order_value)"
      ]
    },
    {
      "cell_type": "code",
      "execution_count": null,
      "id": "f7226783",
      "metadata": {
        "id": "f7226783",
        "outputId": "59716cf8-d8b8-4228-e0cc-bf76795c83ad"
      },
      "outputs": [
        {
          "name": "stdout",
          "output_type": "stream",
          "text": [
            "Product Category Distribution:\n",
            "P Type\n",
            "Grocery        0.125\n",
            "Food           0.125\n",
            "Clothing       0.125\n",
            "Medicines      0.125\n",
            "Waste          0.125\n",
            "Electronics    0.125\n",
            "Breverages     0.125\n",
            "Stationary     0.125\n",
            "Name: proportion, dtype: float64\n"
          ]
        }
      ],
      "source": [
        "# Calculate product category distribution\n",
        "product_category_distribution = sales_data['P Type'].value_counts(normalize=True)\n",
        "print(\"Product Category Distribution:\")\n",
        "print(product_category_distribution)"
      ]
    },
    {
      "cell_type": "markdown",
      "id": "804beb94-84c7-4957-874f-785baab028aa",
      "metadata": {
        "id": "804beb94-84c7-4957-874f-785baab028aa"
      },
      "source": [
        "## ------------------------------------------------------------------------------------------------------------"
      ]
    },
    {
      "cell_type": "markdown",
      "id": "9ddca4f9-2c90-4d95-ad59-108e135d7960",
      "metadata": {
        "id": "9ddca4f9-2c90-4d95-ad59-108e135d7960"
      },
      "source": [
        "### **Task 7**"
      ]
    },
    {
      "cell_type": "code",
      "execution_count": null,
      "id": "ecf0aaa2",
      "metadata": {
        "id": "ecf0aaa2",
        "outputId": "184e4017-8c71-4f4f-d41d-0fcab82efea6"
      },
      "outputs": [
        {
          "data": {
            "image/png": "[encoded data removed]",
            "text/plain": [
              "<Figure size 1000x600 with 1 Axes>"
            ]
          },
          "metadata": {},
          "output_type": "display_data"
        }
      ],
      "source": [
        "# Bar plot: Total Sales by Product Type\n",
        "plt.figure(figsize=(10, 6))\n",
        "product_type_sales = sales_data.groupby('P Type')['Sales'].sum()\n",
        "product_type_sales.plot(kind='bar', color='red')\n",
        "plt.title('Total Sales by Product Type')\n",
        "plt.xlabel('Product Type')\n",
        "plt.ylabel('Total Sales')\n",
        "plt.xticks(rotation=45)\n",
        "plt.tight_layout()\n",
        "plt.show()"
      ]
    },
    {
      "cell_type": "code",
      "execution_count": null,
      "id": "d88221e6",
      "metadata": {
        "id": "d88221e6",
        "outputId": "edde6823-cbdb-413c-ff65-4b7fe0b7ddac"
      },
      "outputs": [
        {
          "data": {
            "image/png": "[encoded data removed]",
            "text/plain": [
              "<Figure size 1000x600 with 1 Axes>"
            ]
          },
          "metadata": {},
          "output_type": "display_data"
        }
      ],
      "source": [
        "# Pie chart: Product Category Distribution\n",
        "plt.figure(figsize=(10, 6))\n",
        "product_category_distribution = sales_data['P Type'].value_counts()\n",
        "plt.pie(product_category_distribution, labels=product_category_distribution.index, autopct='%1.1f%%', startangle=140)\n",
        "plt.title('Product Category Distribution')\n",
        "plt.axis('equal')\n",
        "plt.tight_layout()\n",
        "plt.show()"
      ]
    },
    {
      "cell_type": "markdown",
      "id": "c6a689d9-724f-4f9a-81e2-adb9aa5e1c79",
      "metadata": {
        "id": "c6a689d9-724f-4f9a-81e2-adb9aa5e1c79"
      },
      "source": [
        "## ------------------------------------------------------------------------------------------------------------"
      ]
    },
    {
      "cell_type": "code",
      "execution_count": null,
      "id": "6306df98-a138-48ae-a4f7-5c9a94487a31",
      "metadata": {
        "id": "6306df98-a138-48ae-a4f7-5c9a94487a31"
      },
      "outputs": [],
      "source": []
    }
  ],
  "metadata": {
    "kernelspec": {
      "display_name": "Python 3 (ipykernel)",
      "language": "python",
      "name": "python3"
    },
    "language_info": {
      "codemirror_mode": {
        "name": "ipython",
        "version": 3
      },
      "file_extension": ".py",
      "mimetype": "text/x-python",
      "name": "python",
      "nbconvert_exporter": "python",
      "pygments_lexer": "ipython3",
      "version": "3.11.7"
    },
    "colab": {
      "provenance": []
    }
  },
  "nbformat": 4,
  "nbformat_minor": 5
}