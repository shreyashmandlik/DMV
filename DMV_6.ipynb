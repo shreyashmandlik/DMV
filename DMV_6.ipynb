{
  "cells": [
    {
      "cell_type": "markdown",
      "id": "0ead0179",
      "metadata": {
        "id": "0ead0179"
      },
      "source": [
        "### **Data Aggregation**\n",
        "\n",
        "**Problem Statement**: Analyzing Sales Performance by Region in a Retail Company\n",
        "\n",
        "**Dataset**: \"Retail_Sales_Data.csv\"\n",
        "\n",
        "**Description**: The dataset contains information about sales transactions in a retail company. It\n",
        "includes attributes such as transaction date, product category, quantity sold, and sales\n",
        "amount. The goal is to perform data aggregation to analyze the sales performance by region\n",
        "and identify the top-performing regions.\n",
        "\n",
        "**Tasks to Perform**:\n",
        "1. Import the \"Retail_Sales_Data.csv\" dataset.\n",
        "2. Explore the dataset to understand its structure and content.\n",
        "3. Identify the relevant variables for aggregating sales data, such as region, sales\n",
        "amount, and product category.\n",
        "4. Group the sales data by region and calculate the total sales amount for each region.\n",
        "5. Create bar plots or pie charts to visualize the sales distribution by region.\n",
        "6. Identify the top-performing regions based on the highest sales amount.\n",
        "7. Group the sales data by region and product category to calculate the total sales\n",
        "amount for each combination.\n",
        "8. Create stacked bar plots or grouped bar plots to compare the sales amounts across\n",
        "different regions and product categories."
      ]
    },
    {
      "cell_type": "markdown",
      "id": "4ee5e641-f54e-4915-adb5-066ac1aa8e7e",
      "metadata": {
        "id": "4ee5e641-f54e-4915-adb5-066ac1aa8e7e"
      },
      "source": [
        "## ------------------------------------------------------------------------------------------------------------"
      ]
    },
    {
      "cell_type": "markdown",
      "id": "705f4266-930c-4734-903c-398ec758acee",
      "metadata": {
        "id": "705f4266-930c-4734-903c-398ec758acee"
      },
      "source": [
        "### **Importing Libraries**"
      ]
    },
    {
      "cell_type": "code",
      "execution_count": null,
      "id": "200d94f1",
      "metadata": {
        "id": "200d94f1"
      },
      "outputs": [],
      "source": [
        "import numpy as np\n",
        "import pandas as pd"
      ]
    },
    {
      "cell_type": "markdown",
      "id": "a9d0b28a-574e-4008-98ca-1e599d49ba66",
      "metadata": {
        "id": "a9d0b28a-574e-4008-98ca-1e599d49ba66"
      },
      "source": [
        "## ------------------------------------------------------------------------------------------------------------"
      ]
    },
    {
      "cell_type": "markdown",
      "id": "b18325d8",
      "metadata": {
        "id": "b18325d8"
      },
      "source": [
        "### **Task 1**"
      ]
    },
    {
      "cell_type": "code",
      "execution_count": null,
      "id": "96e5b247",
      "metadata": {
        "id": "96e5b247"
      },
      "outputs": [],
      "source": [
        "df = pd.read_csv(\"Retail_Sales.csv\")"
      ]
    },
    {
      "cell_type": "markdown",
      "id": "56876f55-3834-42ee-b5d3-a5ec934671f0",
      "metadata": {
        "id": "56876f55-3834-42ee-b5d3-a5ec934671f0"
      },
      "source": [
        "## ------------------------------------------------------------------------------------------------------------"
      ]
    },
    {
      "cell_type": "markdown",
      "id": "091a57b8",
      "metadata": {
        "id": "091a57b8"
      },
      "source": [
        "### **Task 2**"
      ]
    },
    {
      "cell_type": "code",
      "execution_count": null,
      "id": "59973f47",
      "metadata": {
        "id": "59973f47",
        "outputId": "38c7c473-9424-45c9-babd-c999d280c4f6"
      },
      "outputs": [
        {
          "name": "stdout",
          "output_type": "stream",
          "text": [
            "<class 'pandas.core.frame.DataFrame'>\n",
            "RangeIndex: 149 entries, 0 to 148\n",
            "Data columns (total 6 columns):\n",
            " #   Column            Non-Null Count  Dtype  \n",
            "---  ------            --------------  -----  \n",
            " 0   customer_id       149 non-null    object \n",
            " 1   Product_category  149 non-null    object \n",
            " 2   quantity_sold     149 non-null    int64  \n",
            " 3   Sales_Amount      149 non-null    float64\n",
            " 4   transaction_date  149 non-null    object \n",
            " 5   Region            149 non-null    object \n",
            "dtypes: float64(1), int64(1), object(4)\n",
            "memory usage: 7.1+ KB\n"
          ]
        }
      ],
      "source": [
        "df.info()"
      ]
    },
    {
      "cell_type": "code",
      "execution_count": null,
      "id": "2fcd5993-bb1f-47c3-989d-63e48ecac6f6",
      "metadata": {
        "id": "2fcd5993-bb1f-47c3-989d-63e48ecac6f6",
        "outputId": "7aa1b3cd-193f-4301-ec33-d7dc86cac5b0"
      },
      "outputs": [
        {
          "data": {
            "text/plain": [
              "(149, 6)"
            ]
          },
          "execution_count": 7,
          "metadata": {},
          "output_type": "execute_result"
        }
      ],
      "source": [
        "df.shape"
      ]
    },
    {
      "cell_type": "code",
      "execution_count": null,
      "id": "5b45b875",
      "metadata": {
        "id": "5b45b875",
        "outputId": "45e1e9ea-2c9f-4bf7-8f31-a907b402ffb6"
      },
      "outputs": [
        {
          "data": {
            "text/html": [
              "<div>\n",
              "<style scoped>\n",
              "    .dataframe tbody tr th:only-of-type {\n",
              "        vertical-align: middle;\n",
              "    }\n",
              "\n",
              "    .dataframe tbody tr th {\n",
              "        vertical-align: top;\n",
              "    }\n",
              "\n",
              "    .dataframe thead th {\n",
              "        text-align: right;\n",
              "    }\n",
              "</style>\n",
              "<table border=\"1\" class=\"dataframe\">\n",
              "  <thead>\n",
              "    <tr style=\"text-align: right;\">\n",
              "      <th></th>\n",
              "      <th>customer_id</th>\n",
              "      <th>Product_category</th>\n",
              "      <th>quantity_sold</th>\n",
              "      <th>Sales_Amount</th>\n",
              "      <th>transaction_date</th>\n",
              "      <th>Region</th>\n",
              "    </tr>\n",
              "  </thead>\n",
              "  <tbody>\n",
              "    <tr>\n",
              "      <th>0</th>\n",
              "      <td>C241288</td>\n",
              "      <td>Clothing</td>\n",
              "      <td>5</td>\n",
              "      <td>1500.40</td>\n",
              "      <td>05-08-2022</td>\n",
              "      <td>Kanyon</td>\n",
              "    </tr>\n",
              "    <tr>\n",
              "      <th>1</th>\n",
              "      <td>C111565</td>\n",
              "      <td>Shoes</td>\n",
              "      <td>3</td>\n",
              "      <td>1800.51</td>\n",
              "      <td>12-12-2021</td>\n",
              "      <td>Forum Istanbul</td>\n",
              "    </tr>\n",
              "    <tr>\n",
              "      <th>2</th>\n",
              "      <td>C266599</td>\n",
              "      <td>Clothing</td>\n",
              "      <td>1</td>\n",
              "      <td>300.08</td>\n",
              "      <td>09-11-2021</td>\n",
              "      <td>Metrocity</td>\n",
              "    </tr>\n",
              "    <tr>\n",
              "      <th>3</th>\n",
              "      <td>C988172</td>\n",
              "      <td>Shoes</td>\n",
              "      <td>5</td>\n",
              "      <td>3000.85</td>\n",
              "      <td>16-05-2021</td>\n",
              "      <td>Metropol AVM</td>\n",
              "    </tr>\n",
              "    <tr>\n",
              "      <th>4</th>\n",
              "      <td>C189076</td>\n",
              "      <td>Books</td>\n",
              "      <td>4</td>\n",
              "      <td>60.60</td>\n",
              "      <td>24-10-2021</td>\n",
              "      <td>Kanyon</td>\n",
              "    </tr>\n",
              "    <tr>\n",
              "      <th>...</th>\n",
              "      <td>...</td>\n",
              "      <td>...</td>\n",
              "      <td>...</td>\n",
              "      <td>...</td>\n",
              "      <td>...</td>\n",
              "      <td>...</td>\n",
              "    </tr>\n",
              "    <tr>\n",
              "      <th>144</th>\n",
              "      <td>C309082</td>\n",
              "      <td>Food &amp; Beverage</td>\n",
              "      <td>3</td>\n",
              "      <td>15.69</td>\n",
              "      <td>05-10-2022</td>\n",
              "      <td>Mall of Istanbul</td>\n",
              "    </tr>\n",
              "    <tr>\n",
              "      <th>145</th>\n",
              "      <td>C236365</td>\n",
              "      <td>Cosmetics</td>\n",
              "      <td>2</td>\n",
              "      <td>81.32</td>\n",
              "      <td>28-11-2021</td>\n",
              "      <td>Kanyon</td>\n",
              "    </tr>\n",
              "    <tr>\n",
              "      <th>146</th>\n",
              "      <td>C178734</td>\n",
              "      <td>Shoes</td>\n",
              "      <td>5</td>\n",
              "      <td>3000.85</td>\n",
              "      <td>03-08-2021</td>\n",
              "      <td>Kanyon</td>\n",
              "    </tr>\n",
              "    <tr>\n",
              "      <th>147</th>\n",
              "      <td>C223010</td>\n",
              "      <td>Clothing</td>\n",
              "      <td>4</td>\n",
              "      <td>1200.32</td>\n",
              "      <td>12-10-2022</td>\n",
              "      <td>Metropol AVM</td>\n",
              "    </tr>\n",
              "    <tr>\n",
              "      <th>148</th>\n",
              "      <td>C289933</td>\n",
              "      <td>Food &amp; Beverage</td>\n",
              "      <td>2</td>\n",
              "      <td>10.46</td>\n",
              "      <td>28-09-2022</td>\n",
              "      <td>Kanyon</td>\n",
              "    </tr>\n",
              "  </tbody>\n",
              "</table>\n",
              "<p>149 rows × 6 columns</p>\n",
              "</div>"
            ],
            "text/plain": [
              "    customer_id Product_category  quantity_sold  Sales_Amount  \\\n",
              "0       C241288         Clothing              5       1500.40   \n",
              "1       C111565            Shoes              3       1800.51   \n",
              "2       C266599         Clothing              1        300.08   \n",
              "3       C988172            Shoes              5       3000.85   \n",
              "4       C189076            Books              4         60.60   \n",
              "..          ...              ...            ...           ...   \n",
              "144     C309082  Food & Beverage              3         15.69   \n",
              "145     C236365        Cosmetics              2         81.32   \n",
              "146     C178734            Shoes              5       3000.85   \n",
              "147     C223010         Clothing              4       1200.32   \n",
              "148     C289933  Food & Beverage              2         10.46   \n",
              "\n",
              "    transaction_date            Region  \n",
              "0         05-08-2022            Kanyon  \n",
              "1         12-12-2021    Forum Istanbul  \n",
              "2         09-11-2021         Metrocity  \n",
              "3         16-05-2021      Metropol AVM  \n",
              "4         24-10-2021            Kanyon  \n",
              "..               ...               ...  \n",
              "144       05-10-2022  Mall of Istanbul  \n",
              "145       28-11-2021            Kanyon  \n",
              "146       03-08-2021            Kanyon  \n",
              "147       12-10-2022      Metropol AVM  \n",
              "148       28-09-2022            Kanyon  \n",
              "\n",
              "[149 rows x 6 columns]"
            ]
          },
          "execution_count": 8,
          "metadata": {},
          "output_type": "execute_result"
        }
      ],
      "source": [
        "df"
      ]
    },
    {
      "cell_type": "markdown",
      "id": "8fa72cbd-09ce-4493-bf9a-2f3fa2bdb4cb",
      "metadata": {
        "id": "8fa72cbd-09ce-4493-bf9a-2f3fa2bdb4cb"
      },
      "source": [
        "## ------------------------------------------------------------------------------------------------------------"
      ]
    },
    {
      "cell_type": "markdown",
      "id": "30c6a5d5",
      "metadata": {
        "id": "30c6a5d5"
      },
      "source": [
        "### **Task 3&4**"
      ]
    },
    {
      "cell_type": "code",
      "execution_count": null,
      "id": "eac442dd-1142-415b-bd2b-e4ef898db24c",
      "metadata": {
        "id": "eac442dd-1142-415b-bd2b-e4ef898db24c",
        "outputId": "7c3dd47c-6b40-4064-c20f-cca1d18c3bbc"
      },
      "outputs": [
        {
          "data": {
            "text/plain": [
              "customer_id          object\n",
              "Product_category     object\n",
              "quantity_sold         int64\n",
              "Sales_Amount        float64\n",
              "transaction_date     object\n",
              "Region               object\n",
              "dtype: object"
            ]
          },
          "execution_count": 13,
          "metadata": {},
          "output_type": "execute_result"
        }
      ],
      "source": [
        "df.dtypes"
      ]
    },
    {
      "cell_type": "code",
      "execution_count": null,
      "id": "0830660f",
      "metadata": {
        "id": "0830660f",
        "outputId": "9e9595d6-8de2-4d6c-cf2e-1015df7d886d"
      },
      "outputs": [
        {
          "name": "stdout",
          "output_type": "stream",
          "text": [
            "              Region  Sales_Amount\n",
            "0        Cevahir AVM       5300.86\n",
            "1  Emaar Square Mall       7320.50\n",
            "2     Forum Istanbul       6836.64\n",
            "3       Istinye Park       2162.35\n",
            "4             Kanyon      33388.01\n",
            "5   Mall of Istanbul      18636.46\n",
            "6          Metrocity      13662.51\n",
            "7       Metropol AVM      10751.48\n",
            "8     Viaport Outlet       8267.10\n",
            "9       Zorlu Center       6571.49\n"
          ]
        }
      ],
      "source": [
        "sales_by_region = df.groupby('Region')['Sales_Amount'].sum().reset_index()\n",
        "print(sales_by_region)"
      ]
    },
    {
      "cell_type": "markdown",
      "id": "14e27649-b199-4b74-8991-f7d19954ab71",
      "metadata": {
        "id": "14e27649-b199-4b74-8991-f7d19954ab71"
      },
      "source": [
        "## ------------------------------------------------------------------------------------------------------------"
      ]
    },
    {
      "cell_type": "markdown",
      "id": "c0f4f966",
      "metadata": {
        "id": "c0f4f966"
      },
      "source": [
        "### **Task 5**"
      ]
    },
    {
      "cell_type": "code",
      "execution_count": null,
      "id": "895cdbe2",
      "metadata": {
        "id": "895cdbe2",
        "outputId": "c644d85c-08e8-4f41-c6b1-3c43a39d9ca4"
      },
      "outputs": [
        {
          "data": {
            "image/png": "[encoded data removed]",
            "text/plain": [
              "<Figure size 800x800 with 1 Axes>"
            ]
          },
          "metadata": {},
          "output_type": "display_data"
        }
      ],
      "source": [
        "import matplotlib.pyplot as plt\n",
        "plt.figure(figsize=(8, 8))\n",
        "plt.pie(sales_by_region['Sales_Amount'], labels=sales_by_region['Region'], autopct='%1.1f%%', startangle=140)\n",
        "plt.title('Sales Distribution by Region')\n",
        "plt.axis('equal')  # Equal aspect ratio ensures that pie is drawn as a circle.\n",
        "plt.show()"
      ]
    },
    {
      "cell_type": "markdown",
      "id": "1e859cc7-7084-4ce0-8e11-bdcdf11d89e3",
      "metadata": {
        "id": "1e859cc7-7084-4ce0-8e11-bdcdf11d89e3"
      },
      "source": [
        "## ------------------------------------------------------------------------------------------------------------"
      ]
    },
    {
      "cell_type": "markdown",
      "id": "bf959615",
      "metadata": {
        "id": "bf959615"
      },
      "source": [
        "### **Task 6**"
      ]
    },
    {
      "cell_type": "code",
      "execution_count": null,
      "id": "134c2a77",
      "metadata": {
        "id": "134c2a77",
        "outputId": "5190697f-3874-4817-eaed-97d7112783c3"
      },
      "outputs": [
        {
          "name": "stdout",
          "output_type": "stream",
          "text": [
            "Top-performing regions based on highest sales amount:\n"
          ]
        },
        {
          "data": {
            "text/html": [
              "<div>\n",
              "<style scoped>\n",
              "    .dataframe tbody tr th:only-of-type {\n",
              "        vertical-align: middle;\n",
              "    }\n",
              "\n",
              "    .dataframe tbody tr th {\n",
              "        vertical-align: top;\n",
              "    }\n",
              "\n",
              "    .dataframe thead th {\n",
              "        text-align: right;\n",
              "    }\n",
              "</style>\n",
              "<table border=\"1\" class=\"dataframe\">\n",
              "  <thead>\n",
              "    <tr style=\"text-align: right;\">\n",
              "      <th></th>\n",
              "      <th>Region</th>\n",
              "      <th>Sales_Amount</th>\n",
              "    </tr>\n",
              "  </thead>\n",
              "  <tbody>\n",
              "    <tr>\n",
              "      <th>4</th>\n",
              "      <td>Kanyon</td>\n",
              "      <td>33388.01</td>\n",
              "    </tr>\n",
              "    <tr>\n",
              "      <th>5</th>\n",
              "      <td>Mall of Istanbul</td>\n",
              "      <td>18636.46</td>\n",
              "    </tr>\n",
              "    <tr>\n",
              "      <th>6</th>\n",
              "      <td>Metrocity</td>\n",
              "      <td>13662.51</td>\n",
              "    </tr>\n",
              "    <tr>\n",
              "      <th>7</th>\n",
              "      <td>Metropol AVM</td>\n",
              "      <td>10751.48</td>\n",
              "    </tr>\n",
              "    <tr>\n",
              "      <th>8</th>\n",
              "      <td>Viaport Outlet</td>\n",
              "      <td>8267.10</td>\n",
              "    </tr>\n",
              "    <tr>\n",
              "      <th>1</th>\n",
              "      <td>Emaar Square Mall</td>\n",
              "      <td>7320.50</td>\n",
              "    </tr>\n",
              "    <tr>\n",
              "      <th>2</th>\n",
              "      <td>Forum Istanbul</td>\n",
              "      <td>6836.64</td>\n",
              "    </tr>\n",
              "    <tr>\n",
              "      <th>9</th>\n",
              "      <td>Zorlu Center</td>\n",
              "      <td>6571.49</td>\n",
              "    </tr>\n",
              "    <tr>\n",
              "      <th>0</th>\n",
              "      <td>Cevahir AVM</td>\n",
              "      <td>5300.86</td>\n",
              "    </tr>\n",
              "    <tr>\n",
              "      <th>3</th>\n",
              "      <td>Istinye Park</td>\n",
              "      <td>2162.35</td>\n",
              "    </tr>\n",
              "  </tbody>\n",
              "</table>\n",
              "</div>"
            ],
            "text/plain": [
              "              Region  Sales_Amount\n",
              "4             Kanyon      33388.01\n",
              "5   Mall of Istanbul      18636.46\n",
              "6          Metrocity      13662.51\n",
              "7       Metropol AVM      10751.48\n",
              "8     Viaport Outlet       8267.10\n",
              "1  Emaar Square Mall       7320.50\n",
              "2     Forum Istanbul       6836.64\n",
              "9       Zorlu Center       6571.49\n",
              "0        Cevahir AVM       5300.86\n",
              "3       Istinye Park       2162.35"
            ]
          },
          "execution_count": 16,
          "metadata": {},
          "output_type": "execute_result"
        }
      ],
      "source": [
        "top_performing_regions = sales_by_region.sort_values(by='Sales_Amount', ascending=False)\n",
        "\n",
        "# Print the top-performing regions\n",
        "print(\"Top-performing regions based on highest sales amount:\")\n",
        "top_performing_regions"
      ]
    },
    {
      "cell_type": "markdown",
      "id": "35c96152-b66d-41cd-be5d-55e36c43f8a0",
      "metadata": {
        "id": "35c96152-b66d-41cd-be5d-55e36c43f8a0"
      },
      "source": [
        "## ------------------------------------------------------------------------------------------------------------"
      ]
    },
    {
      "cell_type": "markdown",
      "id": "4eda0c2a",
      "metadata": {
        "id": "4eda0c2a"
      },
      "source": [
        "### **Task 7**"
      ]
    },
    {
      "cell_type": "code",
      "execution_count": null,
      "id": "abf0b171",
      "metadata": {
        "id": "abf0b171",
        "outputId": "c7ea15b0-7a55-4dd0-f555-4606ce71fcd1"
      },
      "outputs": [
        {
          "data": {
            "text/html": [
              "<div>\n",
              "<style scoped>\n",
              "    .dataframe tbody tr th:only-of-type {\n",
              "        vertical-align: middle;\n",
              "    }\n",
              "\n",
              "    .dataframe tbody tr th {\n",
              "        vertical-align: top;\n",
              "    }\n",
              "\n",
              "    .dataframe thead th {\n",
              "        text-align: right;\n",
              "    }\n",
              "</style>\n",
              "<table border=\"1\" class=\"dataframe\">\n",
              "  <thead>\n",
              "    <tr style=\"text-align: right;\">\n",
              "      <th></th>\n",
              "      <th>Region</th>\n",
              "      <th>Product_category</th>\n",
              "      <th>Sales_Amount</th>\n",
              "    </tr>\n",
              "  </thead>\n",
              "  <tbody>\n",
              "    <tr>\n",
              "      <th>0</th>\n",
              "      <td>Cevahir AVM</td>\n",
              "      <td>Clothing</td>\n",
              "      <td>3300.88</td>\n",
              "    </tr>\n",
              "    <tr>\n",
              "      <th>1</th>\n",
              "      <td>Cevahir AVM</td>\n",
              "      <td>Food &amp; Beverage</td>\n",
              "      <td>20.92</td>\n",
              "    </tr>\n",
              "    <tr>\n",
              "      <th>2</th>\n",
              "      <td>Cevahir AVM</td>\n",
              "      <td>Shoes</td>\n",
              "      <td>1800.51</td>\n",
              "    </tr>\n",
              "    <tr>\n",
              "      <th>3</th>\n",
              "      <td>Cevahir AVM</td>\n",
              "      <td>Souvenir</td>\n",
              "      <td>35.19</td>\n",
              "    </tr>\n",
              "    <tr>\n",
              "      <th>4</th>\n",
              "      <td>Cevahir AVM</td>\n",
              "      <td>Toys</td>\n",
              "      <td>143.36</td>\n",
              "    </tr>\n",
              "    <tr>\n",
              "      <th>5</th>\n",
              "      <td>Emaar Square Mall</td>\n",
              "      <td>Books</td>\n",
              "      <td>15.15</td>\n",
              "    </tr>\n",
              "    <tr>\n",
              "      <th>6</th>\n",
              "      <td>Emaar Square Mall</td>\n",
              "      <td>Clothing</td>\n",
              "      <td>1500.40</td>\n",
              "    </tr>\n",
              "    <tr>\n",
              "      <th>7</th>\n",
              "      <td>Emaar Square Mall</td>\n",
              "      <td>Cosmetics</td>\n",
              "      <td>203.30</td>\n",
              "    </tr>\n",
              "    <tr>\n",
              "      <th>8</th>\n",
              "      <td>Emaar Square Mall</td>\n",
              "      <td>Food &amp; Beverage</td>\n",
              "      <td>20.92</td>\n",
              "    </tr>\n",
              "    <tr>\n",
              "      <th>9</th>\n",
              "      <td>Emaar Square Mall</td>\n",
              "      <td>Shoes</td>\n",
              "      <td>5401.53</td>\n",
              "    </tr>\n",
              "    <tr>\n",
              "      <th>10</th>\n",
              "      <td>Emaar Square Mall</td>\n",
              "      <td>Toys</td>\n",
              "      <td>179.20</td>\n",
              "    </tr>\n",
              "    <tr>\n",
              "      <th>11</th>\n",
              "      <td>Forum Istanbul</td>\n",
              "      <td>Books</td>\n",
              "      <td>75.75</td>\n",
              "    </tr>\n",
              "    <tr>\n",
              "      <th>12</th>\n",
              "      <td>Forum Istanbul</td>\n",
              "      <td>Clothing</td>\n",
              "      <td>1800.48</td>\n",
              "    </tr>\n",
              "    <tr>\n",
              "      <th>13</th>\n",
              "      <td>Forum Istanbul</td>\n",
              "      <td>Food &amp; Beverage</td>\n",
              "      <td>15.69</td>\n",
              "    </tr>\n",
              "    <tr>\n",
              "      <th>14</th>\n",
              "      <td>Forum Istanbul</td>\n",
              "      <td>Shoes</td>\n",
              "      <td>4801.36</td>\n",
              "    </tr>\n",
              "    <tr>\n",
              "      <th>15</th>\n",
              "      <td>Forum Istanbul</td>\n",
              "      <td>Toys</td>\n",
              "      <td>143.36</td>\n",
              "    </tr>\n",
              "    <tr>\n",
              "      <th>16</th>\n",
              "      <td>Istinye Park</td>\n",
              "      <td>Books</td>\n",
              "      <td>45.45</td>\n",
              "    </tr>\n",
              "    <tr>\n",
              "      <th>17</th>\n",
              "      <td>Istinye Park</td>\n",
              "      <td>Clothing</td>\n",
              "      <td>1500.40</td>\n",
              "    </tr>\n",
              "    <tr>\n",
              "      <th>18</th>\n",
              "      <td>Istinye Park</td>\n",
              "      <td>Cosmetics</td>\n",
              "      <td>406.60</td>\n",
              "    </tr>\n",
              "    <tr>\n",
              "      <th>19</th>\n",
              "      <td>Istinye Park</td>\n",
              "      <td>Food &amp; Beverage</td>\n",
              "      <td>20.92</td>\n",
              "    </tr>\n",
              "    <tr>\n",
              "      <th>20</th>\n",
              "      <td>Istinye Park</td>\n",
              "      <td>Souvenir</td>\n",
              "      <td>117.30</td>\n",
              "    </tr>\n",
              "    <tr>\n",
              "      <th>21</th>\n",
              "      <td>Istinye Park</td>\n",
              "      <td>Toys</td>\n",
              "      <td>71.68</td>\n",
              "    </tr>\n",
              "    <tr>\n",
              "      <th>22</th>\n",
              "      <td>Kanyon</td>\n",
              "      <td>Books</td>\n",
              "      <td>166.65</td>\n",
              "    </tr>\n",
              "    <tr>\n",
              "      <th>23</th>\n",
              "      <td>Kanyon</td>\n",
              "      <td>Clothing</td>\n",
              "      <td>16504.40</td>\n",
              "    </tr>\n",
              "    <tr>\n",
              "      <th>24</th>\n",
              "      <td>Kanyon</td>\n",
              "      <td>Cosmetics</td>\n",
              "      <td>243.96</td>\n",
              "    </tr>\n",
              "    <tr>\n",
              "      <th>25</th>\n",
              "      <td>Kanyon</td>\n",
              "      <td>Food &amp; Beverage</td>\n",
              "      <td>52.30</td>\n",
              "    </tr>\n",
              "    <tr>\n",
              "      <th>26</th>\n",
              "      <td>Kanyon</td>\n",
              "      <td>Shoes</td>\n",
              "      <td>6601.87</td>\n",
              "    </tr>\n",
              "    <tr>\n",
              "      <th>27</th>\n",
              "      <td>Kanyon</td>\n",
              "      <td>Souvenir</td>\n",
              "      <td>82.11</td>\n",
              "    </tr>\n",
              "    <tr>\n",
              "      <th>28</th>\n",
              "      <td>Kanyon</td>\n",
              "      <td>Technology</td>\n",
              "      <td>9450.00</td>\n",
              "    </tr>\n",
              "    <tr>\n",
              "      <th>29</th>\n",
              "      <td>Kanyon</td>\n",
              "      <td>Toys</td>\n",
              "      <td>286.72</td>\n",
              "    </tr>\n",
              "    <tr>\n",
              "      <th>30</th>\n",
              "      <td>Mall of Istanbul</td>\n",
              "      <td>Clothing</td>\n",
              "      <td>9602.56</td>\n",
              "    </tr>\n",
              "    <tr>\n",
              "      <th>31</th>\n",
              "      <td>Mall of Istanbul</td>\n",
              "      <td>Cosmetics</td>\n",
              "      <td>325.28</td>\n",
              "    </tr>\n",
              "    <tr>\n",
              "      <th>32</th>\n",
              "      <td>Mall of Istanbul</td>\n",
              "      <td>Food &amp; Beverage</td>\n",
              "      <td>99.37</td>\n",
              "    </tr>\n",
              "    <tr>\n",
              "      <th>33</th>\n",
              "      <td>Mall of Istanbul</td>\n",
              "      <td>Shoes</td>\n",
              "      <td>3000.85</td>\n",
              "    </tr>\n",
              "    <tr>\n",
              "      <th>34</th>\n",
              "      <td>Mall of Istanbul</td>\n",
              "      <td>Technology</td>\n",
              "      <td>5250.00</td>\n",
              "    </tr>\n",
              "    <tr>\n",
              "      <th>35</th>\n",
              "      <td>Mall of Istanbul</td>\n",
              "      <td>Toys</td>\n",
              "      <td>358.40</td>\n",
              "    </tr>\n",
              "    <tr>\n",
              "      <th>36</th>\n",
              "      <td>Metrocity</td>\n",
              "      <td>Books</td>\n",
              "      <td>212.10</td>\n",
              "    </tr>\n",
              "    <tr>\n",
              "      <th>37</th>\n",
              "      <td>Metrocity</td>\n",
              "      <td>Clothing</td>\n",
              "      <td>3300.88</td>\n",
              "    </tr>\n",
              "    <tr>\n",
              "      <th>38</th>\n",
              "      <td>Metrocity</td>\n",
              "      <td>Cosmetics</td>\n",
              "      <td>772.54</td>\n",
              "    </tr>\n",
              "    <tr>\n",
              "      <th>39</th>\n",
              "      <td>Metrocity</td>\n",
              "      <td>Food &amp; Beverage</td>\n",
              "      <td>88.91</td>\n",
              "    </tr>\n",
              "    <tr>\n",
              "      <th>40</th>\n",
              "      <td>Metrocity</td>\n",
              "      <td>Shoes</td>\n",
              "      <td>4801.36</td>\n",
              "    </tr>\n",
              "    <tr>\n",
              "      <th>41</th>\n",
              "      <td>Metrocity</td>\n",
              "      <td>Technology</td>\n",
              "      <td>4200.00</td>\n",
              "    </tr>\n",
              "    <tr>\n",
              "      <th>42</th>\n",
              "      <td>Metrocity</td>\n",
              "      <td>Toys</td>\n",
              "      <td>286.72</td>\n",
              "    </tr>\n",
              "    <tr>\n",
              "      <th>43</th>\n",
              "      <td>Metropol AVM</td>\n",
              "      <td>Clothing</td>\n",
              "      <td>5401.44</td>\n",
              "    </tr>\n",
              "    <tr>\n",
              "      <th>44</th>\n",
              "      <td>Metropol AVM</td>\n",
              "      <td>Cosmetics</td>\n",
              "      <td>243.96</td>\n",
              "    </tr>\n",
              "    <tr>\n",
              "      <th>45</th>\n",
              "      <td>Metropol AVM</td>\n",
              "      <td>Food &amp; Beverage</td>\n",
              "      <td>5.23</td>\n",
              "    </tr>\n",
              "    <tr>\n",
              "      <th>46</th>\n",
              "      <td>Metropol AVM</td>\n",
              "      <td>Shoes</td>\n",
              "      <td>3000.85</td>\n",
              "    </tr>\n",
              "    <tr>\n",
              "      <th>47</th>\n",
              "      <td>Metropol AVM</td>\n",
              "      <td>Technology</td>\n",
              "      <td>2100.00</td>\n",
              "    </tr>\n",
              "    <tr>\n",
              "      <th>48</th>\n",
              "      <td>Viaport Outlet</td>\n",
              "      <td>Clothing</td>\n",
              "      <td>2100.56</td>\n",
              "    </tr>\n",
              "    <tr>\n",
              "      <th>49</th>\n",
              "      <td>Viaport Outlet</td>\n",
              "      <td>Food &amp; Beverage</td>\n",
              "      <td>15.69</td>\n",
              "    </tr>\n",
              "    <tr>\n",
              "      <th>50</th>\n",
              "      <td>Viaport Outlet</td>\n",
              "      <td>Shoes</td>\n",
              "      <td>3000.85</td>\n",
              "    </tr>\n",
              "    <tr>\n",
              "      <th>51</th>\n",
              "      <td>Viaport Outlet</td>\n",
              "      <td>Technology</td>\n",
              "      <td>3150.00</td>\n",
              "    </tr>\n",
              "    <tr>\n",
              "      <th>52</th>\n",
              "      <td>Zorlu Center</td>\n",
              "      <td>Books</td>\n",
              "      <td>75.75</td>\n",
              "    </tr>\n",
              "    <tr>\n",
              "      <th>53</th>\n",
              "      <td>Zorlu Center</td>\n",
              "      <td>Clothing</td>\n",
              "      <td>3901.04</td>\n",
              "    </tr>\n",
              "    <tr>\n",
              "      <th>54</th>\n",
              "      <td>Zorlu Center</td>\n",
              "      <td>Cosmetics</td>\n",
              "      <td>162.64</td>\n",
              "    </tr>\n",
              "    <tr>\n",
              "      <th>55</th>\n",
              "      <td>Zorlu Center</td>\n",
              "      <td>Food &amp; Beverage</td>\n",
              "      <td>31.38</td>\n",
              "    </tr>\n",
              "    <tr>\n",
              "      <th>56</th>\n",
              "      <td>Zorlu Center</td>\n",
              "      <td>Shoes</td>\n",
              "      <td>2400.68</td>\n",
              "    </tr>\n",
              "  </tbody>\n",
              "</table>\n",
              "</div>"
            ],
            "text/plain": [
              "               Region Product_category  Sales_Amount\n",
              "0         Cevahir AVM         Clothing       3300.88\n",
              "1         Cevahir AVM  Food & Beverage         20.92\n",
              "2         Cevahir AVM            Shoes       1800.51\n",
              "3         Cevahir AVM         Souvenir         35.19\n",
              "4         Cevahir AVM             Toys        143.36\n",
              "5   Emaar Square Mall            Books         15.15\n",
              "6   Emaar Square Mall         Clothing       1500.40\n",
              "7   Emaar Square Mall        Cosmetics        203.30\n",
              "8   Emaar Square Mall  Food & Beverage         20.92\n",
              "9   Emaar Square Mall            Shoes       5401.53\n",
              "10  Emaar Square Mall             Toys        179.20\n",
              "11     Forum Istanbul            Books         75.75\n",
              "12     Forum Istanbul         Clothing       1800.48\n",
              "13     Forum Istanbul  Food & Beverage         15.69\n",
              "14     Forum Istanbul            Shoes       4801.36\n",
              "15     Forum Istanbul             Toys        143.36\n",
              "16       Istinye Park            Books         45.45\n",
              "17       Istinye Park         Clothing       1500.40\n",
              "18       Istinye Park        Cosmetics        406.60\n",
              "19       Istinye Park  Food & Beverage         20.92\n",
              "20       Istinye Park         Souvenir        117.30\n",
              "21       Istinye Park             Toys         71.68\n",
              "22             Kanyon            Books        166.65\n",
              "23             Kanyon         Clothing      16504.40\n",
              "24             Kanyon        Cosmetics        243.96\n",
              "25             Kanyon  Food & Beverage         52.30\n",
              "26             Kanyon            Shoes       6601.87\n",
              "27             Kanyon         Souvenir         82.11\n",
              "28             Kanyon       Technology       9450.00\n",
              "29             Kanyon             Toys        286.72\n",
              "30   Mall of Istanbul         Clothing       9602.56\n",
              "31   Mall of Istanbul        Cosmetics        325.28\n",
              "32   Mall of Istanbul  Food & Beverage         99.37\n",
              "33   Mall of Istanbul            Shoes       3000.85\n",
              "34   Mall of Istanbul       Technology       5250.00\n",
              "35   Mall of Istanbul             Toys        358.40\n",
              "36          Metrocity            Books        212.10\n",
              "37          Metrocity         Clothing       3300.88\n",
              "38          Metrocity        Cosmetics        772.54\n",
              "39          Metrocity  Food & Beverage         88.91\n",
              "40          Metrocity            Shoes       4801.36\n",
              "41          Metrocity       Technology       4200.00\n",
              "42          Metrocity             Toys        286.72\n",
              "43       Metropol AVM         Clothing       5401.44\n",
              "44       Metropol AVM        Cosmetics        243.96\n",
              "45       Metropol AVM  Food & Beverage          5.23\n",
              "46       Metropol AVM            Shoes       3000.85\n",
              "47       Metropol AVM       Technology       2100.00\n",
              "48     Viaport Outlet         Clothing       2100.56\n",
              "49     Viaport Outlet  Food & Beverage         15.69\n",
              "50     Viaport Outlet            Shoes       3000.85\n",
              "51     Viaport Outlet       Technology       3150.00\n",
              "52       Zorlu Center            Books         75.75\n",
              "53       Zorlu Center         Clothing       3901.04\n",
              "54       Zorlu Center        Cosmetics        162.64\n",
              "55       Zorlu Center  Food & Beverage         31.38\n",
              "56       Zorlu Center            Shoes       2400.68"
            ]
          },
          "execution_count": 17,
          "metadata": {},
          "output_type": "execute_result"
        }
      ],
      "source": [
        "sales_by_region_category = df.groupby(['Region', 'Product_category'])['Sales_Amount'].sum().reset_index()\n",
        "\n",
        "# Display the result\n",
        "sales_by_region_category"
      ]
    },
    {
      "cell_type": "markdown",
      "id": "d93ff7d8-6b5b-4a99-ba67-c803b1b232e0",
      "metadata": {
        "id": "d93ff7d8-6b5b-4a99-ba67-c803b1b232e0"
      },
      "source": [
        "## ------------------------------------------------------------------------------------------------------------"
      ]
    },
    {
      "cell_type": "markdown",
      "id": "26870324",
      "metadata": {
        "id": "26870324"
      },
      "source": [
        "### **Task 8**"
      ]
    },
    {
      "cell_type": "code",
      "execution_count": null,
      "id": "8c323cf8",
      "metadata": {
        "id": "8c323cf8",
        "outputId": "85615a75-72c2-48c9-b0f0-68da8f600e93"
      },
      "outputs": [
        {
          "data": {
            "image/png": "[encoded data removed]",
            "text/plain": [
              "<Figure size 1200x600 with 1 Axes>"
            ]
          },
          "metadata": {},
          "output_type": "display_data"
        }
      ],
      "source": [
        "ax = sales_by_region_category.plot(kind='bar', stacked=True, figsize=(12, 6))\n",
        "plt.xlabel('Region')\n",
        "plt.ylabel('Total Sales')\n",
        "plt.title('Sales Comparison by Region and Product Category')\n",
        "plt.legend(title='Product Category', loc='upper right')\n",
        "\n",
        "# Display the plot\n",
        "plt.show()"
      ]
    },
    {
      "cell_type": "markdown",
      "id": "acfd7315-3ea7-4dc6-8d14-ce181c7cb1c8",
      "metadata": {
        "id": "acfd7315-3ea7-4dc6-8d14-ce181c7cb1c8"
      },
      "source": [
        "## ------------------------------------------------------------------------------------------------------------"
      ]
    }
  ],
  "metadata": {
    "kernelspec": {
      "display_name": "Python 3 (ipykernel)",
      "language": "python",
      "name": "python3"
    },
    "language_info": {
      "codemirror_mode": {
        "name": "ipython",
        "version": 3
      },
      "file_extension": ".py",
      "mimetype": "text/x-python",
      "name": "python",
      "nbconvert_exporter": "python",
      "pygments_lexer": "ipython3",
      "version": "3.11.7"
    },
    "colab": {
      "provenance": []
    }
  },
  "nbformat": 4,
  "nbformat_minor": 5
}